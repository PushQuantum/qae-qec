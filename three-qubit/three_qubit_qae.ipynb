{
  "nbformat": 4,
  "nbformat_minor": 0,
  "metadata": {
    "colab": {
      "name": "three-qubit-qae.ipynb",
      "provenance": [],
      "collapsed_sections": []
    },
    "kernelspec": {
      "name": "python3",
      "display_name": "Python 3"
    },
    "language_info": {
      "name": "python"
    }
  },
  "cells": [
    {
      "cell_type": "markdown",
      "source": [
        "# Three Qubit Quantum Autoencoder"
      ],
      "metadata": {
        "id": "KpeMIQUwdhSe"
      }
    },
    {
      "cell_type": "markdown",
      "source": [
        "From https://arxiv.org/pdf/2202.00555.pdf and https://www.tensorflow.org/quantum/tutorials/qcnn?hl=en"
      ],
      "metadata": {
        "id": "dBMBX_hddog_"
      }
    },
    {
      "cell_type": "code",
      "source": [
        "!pip install cirq"
      ],
      "metadata": {
        "id": "pUGHSF3EdvId"
      },
      "execution_count": null,
      "outputs": []
    },
    {
      "cell_type": "code",
      "source": [
        "!pip install tensorflow==2.7.0"
      ],
      "metadata": {
        "id": "uI-id6IN1ajL"
      },
      "execution_count": null,
      "outputs": []
    },
    {
      "cell_type": "code",
      "source": [
        "!pip install tensorflow-quantum"
      ],
      "metadata": {
        "id": "Yxt9alzh1axj"
      },
      "execution_count": null,
      "outputs": []
    },
    {
      "cell_type": "code",
      "source": [
        "# Update package resources to account for version changes.\n",
        "import importlib, pkg_resources\n",
        "importlib.reload(pkg_resources)"
      ],
      "metadata": {
        "id": "1H_syQDLx4B8",
        "colab": {
          "base_uri": "https://localhost:8080/"
        },
        "outputId": "d0bf555d-e6fe-40ee-e432-5df6c7196298"
      },
      "execution_count": 5,
      "outputs": [
        {
          "output_type": "execute_result",
          "data": {
            "text/plain": [
              "<module 'pkg_resources' from '/usr/local/lib/python3.7/dist-packages/pkg_resources/__init__.py'>"
            ]
          },
          "metadata": {},
          "execution_count": 5
        }
      ]
    },
    {
      "cell_type": "code",
      "source": [
        "import tensorflow as tf\n",
        "import tensorflow_quantum as tfq\n",
        "\n",
        "import cirq\n",
        "import sympy\n",
        "import numpy as np\n",
        "import random\n",
        "\n",
        "# visualization tools\n",
        "%matplotlib inline\n",
        "import matplotlib.pyplot as plt\n",
        "from cirq.contrib.svg import SVGCircuit"
      ],
      "metadata": {
        "id": "91_hStkDyKIV"
      },
      "execution_count": 6,
      "outputs": []
    },
    {
      "cell_type": "code",
      "source": [
        "# Right now states  are |0>L and |1>L (TODO add |+> and |-> => Just train on |-> as paper suggested)\n",
        "def getValidStates(qubits):\n",
        "    return [ #|0>L\n",
        "             { 'circuit': [cirq.I(qubits[0]), cirq.I(qubits[1]), cirq.I(qubits[2])], 'bit': [0,0,0] }, \n",
        "             { 'circuit': [cirq.X(qubits[0]), cirq.I(qubits[1]), cirq.I(qubits[2])], 'bit': [0,0,0] }, \n",
        "             { 'circuit': [cirq.I(qubits[0]), cirq.X(qubits[1]), cirq.I(qubits[2])], 'bit': [0,0,0] }, \n",
        "             { 'circuit': [cirq.I(qubits[0]), cirq.I(qubits[1]), cirq.X(qubits[2])], 'bit': [0,0,0] },\n",
        "             # |1>L\n",
        "             { 'circuit': [cirq.X(qubits[0]), cirq.X(qubits[1]), cirq.X(qubits[2])], 'bit': [1,1,1] },\n",
        "             { 'circuit': [cirq.I(qubits[0]), cirq.X(qubits[1]), cirq.X(qubits[2])], 'bit': [1,1,1] },\n",
        "             { 'circuit': [cirq.X(qubits[0]), cirq.I(qubits[1]), cirq.X(qubits[2])], 'bit': [1,1,1] },\n",
        "             { 'circuit': [cirq.X(qubits[0]), cirq.X(qubits[1]), cirq.I(qubits[2])], 'bit': [1,1,1] },\n",
        "           ] \n",
        "\n",
        "def generate_data(qubits):\n",
        "    \"\"\"Generate training and testing data.\"\"\"\n",
        "    validStates = getValidStates(qubits)\n",
        "    n_rounds = 1000\n",
        "    excitations = []\n",
        "    labels = []\n",
        "    rng = np.random.default_rng()\n",
        "    for n in range(n_rounds):\n",
        "      circuit = cirq.Circuit()\n",
        "      indx = rng.integers(0, len(validStates), size=1)[0]\n",
        "      theState = validStates[indx]['circuit']\n",
        "      theLabel = validStates[indx]['bit']\n",
        "      for op in theState:\n",
        "        circuit.append(op)\n",
        "      excitations.append(circuit)\n",
        "      labels.append(theLabel)\n",
        "      #(TODO use errors from https://github.com/tensorflow/quantum/issues/250 ??)\n",
        "\n",
        "    split_ind = int(len(excitations) * 0.7)\n",
        "    train_excitations = excitations[:split_ind]\n",
        "    test_excitations = excitations[split_ind:]\n",
        "\n",
        "    train_labels = labels[:split_ind]\n",
        "    test_labels = labels[split_ind:]\n",
        "\n",
        "    return tfq.convert_to_tensor(train_excitations), np.array(train_labels), \\\n",
        "        tfq.convert_to_tensor(test_excitations), np.array(test_labels)"
      ],
      "metadata": {
        "id": "kguXZMCP1FxL"
      },
      "execution_count": 7,
      "outputs": []
    },
    {
      "cell_type": "code",
      "source": [
        "sample_points, sample_labels, _, __ = generate_data(cirq.GridQubit.rect(1, 4))\n",
        "for i in range(0, 20):\n",
        "  print('Input:', tfq.from_tensor(sample_points)[i], 'Output:', sample_labels[i])"
      ],
      "metadata": {
        "id": "cg894X5v6i5E"
      },
      "execution_count": null,
      "outputs": []
    },
    {
      "cell_type": "code",
      "source": [
        "# 3-1-3 QAE\n",
        "def create_model_circuit(qubits):\n",
        "    model_circuit = cirq.Circuit()\n",
        "\n",
        "    symbols = sympy.symbols('qconv0:30')\n",
        "\n",
        "    uCircuit = cirq.Circuit()\n",
        "    uCircuit.append(cirq.ry(symbols[0])(qubits[0]))\n",
        "    uCircuit.append(cirq.ry(symbols[1])(qubits[1]))\n",
        "    uCircuit.append(cirq.ry(symbols[2])(qubits[2]))\n",
        "    uCircuit.append(cirq.ry(symbols[3])(qubits[3]))\n",
        "    uCircuit.append(cirq.rz(symbols[4])(qubits[0]))\n",
        "    uCircuit.append(cirq.rz(symbols[5])(qubits[1]))\n",
        "    uCircuit.append(cirq.rz(symbols[6])(qubits[2]))\n",
        "    uCircuit.append(cirq.rz(symbols[7])(qubits[3]))\n",
        "    uCircuit.append(cirq.CNOT(qubits[0], qubits[1])**symbols[8])\n",
        "    uCircuit.append(cirq.CNOT(qubits[1], qubits[2])**symbols[9])\n",
        "    uCircuit.append(cirq.CNOT(qubits[2], qubits[3])**symbols[10])\n",
        "    uCircuit.append(cirq.rz(symbols[11])(qubits[0]))\n",
        "    uCircuit.append(cirq.rz(symbols[12])(qubits[1]))\n",
        "    uCircuit.append(cirq.rz(symbols[13])(qubits[2]))\n",
        "    uCircuit.append(cirq.rz(symbols[14])(qubits[3]))\n",
        "    model_circuit.append(uCircuit)\n",
        "\n",
        "    uTransposeCircuit = cirq.Circuit()\n",
        "    uTransposeCircuit.append(cirq.ry(symbols[15])(qubits[4]))\n",
        "    uTransposeCircuit.append(cirq.ry(symbols[16])(qubits[5]))\n",
        "    uTransposeCircuit.append(cirq.ry(symbols[17])(qubits[6]))\n",
        "    uTransposeCircuit.append(cirq.ry(symbols[18])(qubits[3]))\n",
        "    uTransposeCircuit.append(cirq.rz(symbols[19])(qubits[4]))\n",
        "    uTransposeCircuit.append(cirq.rz(symbols[20])(qubits[5]))\n",
        "    uTransposeCircuit.append(cirq.rz(symbols[21])(qubits[6]))\n",
        "    uTransposeCircuit.append(cirq.rz(symbols[22])(qubits[3]))\n",
        "    uTransposeCircuit.append(cirq.CNOT(qubits[4], qubits[5])**symbols[23])\n",
        "    uTransposeCircuit.append(cirq.CNOT(qubits[5], qubits[6])**symbols[24])\n",
        "    uTransposeCircuit.append(cirq.CNOT(qubits[6], qubits[3])**symbols[25])\n",
        "    uTransposeCircuit.append(cirq.rz(symbols[26])(qubits[4]))\n",
        "    uTransposeCircuit.append(cirq.rz(symbols[27])(qubits[5]))\n",
        "    uTransposeCircuit.append(cirq.rz(symbols[28])(qubits[6]))\n",
        "    uTransposeCircuit.append(cirq.rz(symbols[29])(qubits[3]))\n",
        "    uTransposeCircuit = cirq.inverse(uTransposeCircuit)   \n",
        "    model_circuit.append(uTransposeCircuit)\n",
        "\n",
        "    SVGCircuit(model_circuit)\n",
        "\n",
        "    return model_circuit"
      ],
      "metadata": {
        "id": "rzk1o1WvALt7"
      },
      "execution_count": 8,
      "outputs": []
    },
    {
      "cell_type": "code",
      "source": [
        "# Create our qubits and readout operators in Cirq.\n",
        "out_state_bits = cirq.GridQubit.rect(1, 7)\n",
        "readout_operators = [cirq.Z(out_state_bits[4]), cirq.Z(out_state_bits[5]), cirq.Z(out_state_bits[6])]\n",
        "\n",
        "excitation_input = tf.keras.Input(shape=(), dtype=tf.dtypes.string)\n",
        "\n",
        "quantum_model = tfq.layers.PQC(create_model_circuit(out_state_bits),\n",
        "                               readout_operators,\n",
        "                               differentiator=tfq.differentiators.Adjoint())(excitation_input)\n",
        "\n",
        "qcnn_model = tf.keras.Model(inputs=[excitation_input], outputs=[quantum_model])\n",
        "\n",
        "# Show the keras plot of the model\n",
        "tf.keras.utils.plot_model(qcnn_model,\n",
        "                          show_shapes=True,\n",
        "                          show_layer_names=False,\n",
        "                          dpi=70)"
      ],
      "metadata": {
        "id": "RM4QvOIPBGG4",
        "colab": {
          "base_uri": "https://localhost:8080/",
          "height": 151
        },
        "outputId": "801148b0-a4ff-40d3-bcb5-589b860ee718"
      },
      "execution_count": 9,
      "outputs": [
        {
          "output_type": "execute_result",
          "data": {
            "text/plain": [
              "<IPython.core.display.Image object>"
            ],
            "image/png": "[encoded data removed]"
          },
          "metadata": {},
          "execution_count": 9
        }
      ]
    },
    {
      "cell_type": "code",
      "source": [
        "# Generate some training data.\n",
        "train_excitations, train_labels, test_excitations, test_labels = generate_data(\n",
        "    out_state_bits[:3])\n",
        "\n",
        "# Custom accuracy metric.\n",
        "def mapResult(x):\n",
        "  #tf.print(x)\n",
        "  return tf.map_fn(lambda y: 0.0 if y >= 0 else 1.0, x)\n",
        "def custom_accuracy(y_true, y_pred):\n",
        "    y_true = tf.squeeze(y_true)\n",
        "    y_pred = tf.map_fn(lambda x: mapResult(x), y_pred)\n",
        "    return tf.keras.backend.mean(tf.keras.backend.equal(y_true, y_pred))\n",
        "\n",
        "\n",
        "qcnn_model.compile(optimizer=tf.keras.optimizers.Adam(learning_rate=0.02),\n",
        "                   loss=tf.losses.mse,\n",
        "                   metrics=[custom_accuracy])\n",
        "\n",
        "history = qcnn_model.fit(x=train_excitations,\n",
        "                         y=train_labels,\n",
        "                         batch_size=16,\n",
        "                         epochs=25,\n",
        "                         verbose=1,\n",
        "                         validation_data=(test_excitations, test_labels))"
      ],
      "metadata": {
        "id": "Q73KD0qF6gP_",
        "colab": {
          "base_uri": "https://localhost:8080/"
        },
        "outputId": "2a9064a4-9408-4084-8e14-8ea384a10df6"
      },
      "execution_count": 10,
      "outputs": [
        {
          "output_type": "stream",
          "name": "stdout",
          "text": [
            "Epoch 1/25\n",
            "44/44 [==============================] - 4s 57ms/step - loss: 0.9114 - custom_accuracy: 0.5123 - val_loss: 0.6127 - val_custom_accuracy: 0.4737\n",
            "Epoch 2/25\n",
            "44/44 [==============================] - 2s 55ms/step - loss: 0.3536 - custom_accuracy: 0.5104 - val_loss: 0.2735 - val_custom_accuracy: 0.4211\n",
            "Epoch 3/25\n",
            "44/44 [==============================] - 2s 56ms/step - loss: 0.2521 - custom_accuracy: 0.5213 - val_loss: 0.2548 - val_custom_accuracy: 0.4211\n",
            "Epoch 4/25\n",
            "44/44 [==============================] - 3s 72ms/step - loss: 0.2507 - custom_accuracy: 0.5208 - val_loss: 0.2561 - val_custom_accuracy: 0.4211\n",
            "Epoch 5/25\n",
            "44/44 [==============================] - 2s 57ms/step - loss: 0.2501 - custom_accuracy: 0.5208 - val_loss: 0.2518 - val_custom_accuracy: 0.4211\n",
            "Epoch 6/25\n",
            "44/44 [==============================] - 3s 79ms/step - loss: 0.2499 - custom_accuracy: 0.5213 - val_loss: 0.2556 - val_custom_accuracy: 0.4211\n",
            "Epoch 7/25\n",
            "44/44 [==============================] - 3s 69ms/step - loss: 0.2501 - custom_accuracy: 0.5213 - val_loss: 0.2505 - val_custom_accuracy: 0.4211\n",
            "Epoch 8/25\n",
            "44/44 [==============================] - 4s 92ms/step - loss: 0.2503 - custom_accuracy: 0.5213 - val_loss: 0.2515 - val_custom_accuracy: 0.4211\n",
            "Epoch 9/25\n",
            "44/44 [==============================] - 5s 106ms/step - loss: 0.2501 - custom_accuracy: 0.5213 - val_loss: 0.2524 - val_custom_accuracy: 0.4211\n",
            "Epoch 10/25\n",
            "44/44 [==============================] - 5s 120ms/step - loss: 0.2500 - custom_accuracy: 0.5208 - val_loss: 0.2510 - val_custom_accuracy: 0.4211\n",
            "Epoch 11/25\n",
            "44/44 [==============================] - 6s 143ms/step - loss: 0.2511 - custom_accuracy: 0.5223 - val_loss: 0.2550 - val_custom_accuracy: 0.4211\n",
            "Epoch 12/25\n",
            "44/44 [==============================] - 5s 116ms/step - loss: 0.2507 - custom_accuracy: 0.5204 - val_loss: 0.2527 - val_custom_accuracy: 0.4211\n",
            "Epoch 13/25\n",
            "44/44 [==============================] - 5s 118ms/step - loss: 0.2511 - custom_accuracy: 0.5218 - val_loss: 0.2495 - val_custom_accuracy: 0.4211\n",
            "Epoch 14/25\n",
            "44/44 [==============================] - 5s 110ms/step - loss: 0.2510 - custom_accuracy: 0.5208 - val_loss: 0.2538 - val_custom_accuracy: 0.4211\n",
            "Epoch 15/25\n",
            "44/44 [==============================] - 6s 132ms/step - loss: 0.2499 - custom_accuracy: 0.5213 - val_loss: 0.2507 - val_custom_accuracy: 0.4211\n",
            "Epoch 16/25\n",
            "44/44 [==============================] - 6s 131ms/step - loss: 0.2504 - custom_accuracy: 0.5204 - val_loss: 0.2524 - val_custom_accuracy: 0.4211\n",
            "Epoch 17/25\n",
            "44/44 [==============================] - 5s 121ms/step - loss: 0.2501 - custom_accuracy: 0.5208 - val_loss: 0.2572 - val_custom_accuracy: 0.4211\n",
            "Epoch 18/25\n",
            "44/44 [==============================] - 5s 107ms/step - loss: 0.2501 - custom_accuracy: 0.5218 - val_loss: 0.2509 - val_custom_accuracy: 0.4211\n",
            "Epoch 19/25\n",
            "44/44 [==============================] - 5s 115ms/step - loss: 0.2501 - custom_accuracy: 0.5218 - val_loss: 0.2525 - val_custom_accuracy: 0.4211\n",
            "Epoch 20/25\n",
            "44/44 [==============================] - 5s 105ms/step - loss: 0.2499 - custom_accuracy: 0.5223 - val_loss: 0.2512 - val_custom_accuracy: 0.4211\n",
            "Epoch 21/25\n",
            "44/44 [==============================] - 4s 91ms/step - loss: 0.2497 - custom_accuracy: 0.5213 - val_loss: 0.2565 - val_custom_accuracy: 0.4211\n",
            "Epoch 22/25\n",
            "44/44 [==============================] - 5s 112ms/step - loss: 0.2518 - custom_accuracy: 0.5213 - val_loss: 0.2563 - val_custom_accuracy: 0.4211\n",
            "Epoch 23/25\n",
            "44/44 [==============================] - 5s 116ms/step - loss: 0.2504 - custom_accuracy: 0.5227 - val_loss: 0.2535 - val_custom_accuracy: 0.4211\n",
            "Epoch 24/25\n",
            "44/44 [==============================] - 6s 134ms/step - loss: 0.2502 - custom_accuracy: 0.5208 - val_loss: 0.2549 - val_custom_accuracy: 0.4211\n",
            "Epoch 25/25\n",
            "44/44 [==============================] - 5s 107ms/step - loss: 0.2500 - custom_accuracy: 0.5213 - val_loss: 0.2566 - val_custom_accuracy: 0.4211\n"
          ]
        }
      ]
    },
    {
      "cell_type": "code",
      "source": [
        "plt.plot(history.history['loss'][1:], label='Training')\n",
        "plt.plot(history.history['val_loss'][1:], label='Validation')\n",
        "plt.title('Three Bit Quantum Autoencoder')\n",
        "plt.xlabel('Epochs')\n",
        "plt.ylabel('Loss')\n",
        "plt.legend()\n",
        "plt.show()"
      ],
      "metadata": {
        "colab": {
          "base_uri": "https://localhost:8080/",
          "height": 295
        },
        "id": "ZBKxBuxwkINp",
        "outputId": "a8eb2b7d-86c8-4562-b796-438b3ea3fb97"
      },
      "execution_count": 11,
      "outputs": [
        {
          "output_type": "display_data",
          "data": {
            "text/plain": [
              "<Figure size 432x288 with 1 Axes>"
            ],
            "image/png": "[encoded data removed]"
          },
          "metadata": {
            "needs_background": "light"
          }
        }
      ]
    }
  ]
}