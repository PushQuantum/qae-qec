{
  "nbformat": 4,
  "nbformat_minor": 0,
  "metadata": {
    "colab": {
      "name": "three-qubit-qae.ipynb",
      "provenance": [],
      "collapsed_sections": []
    },
    "kernelspec": {
      "name": "python3",
      "display_name": "Python 3"
    },
    "language_info": {
      "name": "python"
    }
  },
  "cells": [
    {
      "cell_type": "markdown",
      "source": [
        "# Three Qubit Quantum Autoencoder"
      ],
      "metadata": {
        "id": "KpeMIQUwdhSe"
      }
    },
    {
      "cell_type": "markdown",
      "source": [
        "From https://arxiv.org/pdf/2202.00555.pdf"
      ],
      "metadata": {
        "id": "dBMBX_hddog_"
      }
    },
    {
      "cell_type": "code",
      "source": [
        "!pip install cirq"
      ],
      "metadata": {
        "id": "pUGHSF3EdvId"
      },
      "execution_count": null,
      "outputs": []
    },
    {
      "cell_type": "code",
      "source": [
        "import cirq\n",
        "\n",
        "def generateError(circuit, qubits, pVal):\n",
        "  bit_flip = cirq.bit_flip(p=pVal)\n",
        "\n",
        "  for qubit in qubits:\n",
        "    circuit.append(bit_flip.on(qubit))\n",
        "\n",
        "def getMainCircuits():\n",
        "  uCircuit = #TODO\n",
        "  uTransposeCircuit = cirq.inverse(uCircuit)\n",
        "\n",
        "  return uCircuit, uTransposeCircuit\n",
        "\n",
        "def main():\n",
        "  circuit = cirq.Circuit()\n",
        "  uCircuit, uTransposeCircuit = getMainCircuits()\n",
        "  qBits = cirq.LineQubit.range(7)\n",
        "  qubitToBeCorrected = qBits[0]\n",
        "  roIn = [qBits[1], qBits[2], qBits[3]]\n",
        "  roOut = [qBits[4], qBits[5], qBits[6]]\n",
        "\n",
        "  # TODO update here for bit errors\n",
        "  generateError(circuit=circuit, qubits=[qubitToBeCorrected], pVal=0.1)\n",
        "\n",
        "  circuit.append(uCircuit(roIn, qubitToBeCorrected))\n",
        "\n",
        "  # Discard these qubits\n",
        "  circuit.append(cirq.measure(roIn, key='result')) \n",
        "\n",
        "  circuit.append(uTransposeCircuit(roOut, qubitToBeCorrected))\n",
        "\n",
        "  #TODO add train and test steps\n",
        "\n",
        "  s=cirq.Simulator()\n",
        "\n",
        "  print('Simulate the circuit:')\n",
        "  results=s.simulate(circuit)\n",
        "  print(results)\n",
        "  print()\n",
        "\n",
        "  # For sampling, we need to add a measurement at the end\n",
        "  circuit.append(cirq.measure(qubitToBeCorrected, key='result'))\n",
        "\n",
        "  print('Sample the circuit:')\n",
        "  samples=s.run(circuit, repetitions=1000)\n",
        "  # Print a histogram of results\n",
        "  print(samples.histogram(key='result'))\n",
        "\n",
        "main()"
      ],
      "metadata": {
        "id": "fpY1ip8hiduz"
      },
      "execution_count": null,
      "outputs": []
    }
  ]
}