{
  "cells": [
    {
      "cell_type": "markdown",
      "metadata": {
        "id": "HSyYDby6dvsA"
      },
      "source": [
        "# Three Qubit Quantum Autoencoder"
      ]
    },
    {
      "cell_type": "markdown",
      "metadata": {
        "id": "2BzG6-iWd3RX"
      },
      "source": [
        "From https://github.com/lockwo/quantum_computation/blob/6d2c73ff9ac129478e82e8ddcfed41cdcd7b83b9/TFQ/QAE/quantum_autoencoder.py#L19"
      ]
    },
    {
      "cell_type": "code",
      "execution_count": null,
      "metadata": {
        "id": "W-sks0ald5H3"
      },
      "outputs": [],
      "source": [
        "!pip install cirq"
      ]
    },
    {
      "cell_type": "code",
      "execution_count": null,
      "metadata": {
        "id": "pLAmdxaXd7cK"
      },
      "outputs": [],
      "source": [
        "!pip install tensorflow==2.7.0"
      ]
    },
    {
      "cell_type": "code",
      "execution_count": null,
      "metadata": {
        "id": "6TSxIMIzd-ze"
      },
      "outputs": [],
      "source": [
        "!pip install tensorflow-quantum"
      ]
    },
    {
      "cell_type": "code",
      "execution_count": 1,
      "metadata": {
        "colab": {
          "base_uri": "https://localhost:8080/"
        },
        "id": "zc6Qu7gCeBCq",
        "outputId": "8786c4a5-aa00-41f2-b37e-9d3b2eb51feb"
      },
      "outputs": [
        {
          "output_type": "execute_result",
          "data": {
            "text/plain": [
              "<module 'pkg_resources' from '/usr/local/lib/python3.7/dist-packages/pkg_resources/__init__.py'>"
            ]
          },
          "metadata": {},
          "execution_count": 1
        }
      ],
      "source": [
        "# Update package resources to account for version changes.\n",
        "import importlib, pkg_resources\n",
        "importlib.reload(pkg_resources)"
      ]
    },
    {
      "cell_type": "code",
      "execution_count": 2,
      "metadata": {
        "id": "y3wNRcbHeHQ6"
      },
      "outputs": [],
      "source": [
        "import tensorflow_quantum as tfq\n",
        "import cirq \n",
        "import sympy\n",
        "import numpy as np\n",
        "import tensorflow as tf\n",
        "import matplotlib.pyplot as plt\n",
        "import random\n",
        "from itertools import product"
      ]
    },
    {
      "cell_type": "code",
      "execution_count": 3,
      "metadata": {
        "id": "mB3K9ccNeKnl"
      },
      "outputs": [],
      "source": [
        "# Right now states  are |0>L and |1>L (TODO add |+> and |-> => Just train on |-> as paper suggested)\n",
        "def getValidStates(qubits, refQubits):\n",
        "    return [ #|0>L\n",
        "            { 'circuit': [cirq.I(qubits[0]), cirq.I(qubits[1]), cirq.I(qubits[2])], \n",
        "              'refcircuit': [cirq.I(refQubits[0]), cirq.I(refQubits[1]), cirq.I(refQubits[2])] \n",
        "            }, \n",
        "            { 'circuit': [cirq.X(qubits[0]), cirq.I(qubits[1]), cirq.I(qubits[2])], \n",
        "              'refcircuit': [cirq.I(refQubits[0]), cirq.I(refQubits[1]), cirq.I(refQubits[2])] \n",
        "            }, \n",
        "            { 'circuit': [cirq.I(qubits[0]), cirq.X(qubits[1]), cirq.I(qubits[2])],\n",
        "              'refcircuit': [cirq.I(refQubits[0]), cirq.I(refQubits[1]), cirq.I(refQubits[2])] \n",
        "            },\n",
        "            { 'circuit': [cirq.I(qubits[0]), cirq.I(qubits[1]), cirq.X(qubits[2])],\n",
        "              'refcircuit': [cirq.I(refQubits[0]), cirq.I(refQubits[1]), cirq.I(refQubits[2])] \n",
        "            },\n",
        "            # |1>L\n",
        "            { 'circuit': [cirq.X(qubits[0]), cirq.X(qubits[1]), cirq.X(qubits[2])],\n",
        "              'refcircuit': [cirq.X(refQubits[0]), cirq.X(refQubits[1]), cirq.X(refQubits[2])] \n",
        "            },\n",
        "            { 'circuit': [cirq.I(qubits[0]), cirq.X(qubits[1]), cirq.X(qubits[2])], \n",
        "              'refcircuit': [cirq.X(refQubits[0]), cirq.X(refQubits[1]), cirq.X(refQubits[2])]\n",
        "            },\n",
        "            { 'circuit': [cirq.X(qubits[0]), cirq.I(qubits[1]), cirq.X(qubits[2])], \n",
        "              'refcircuit': [cirq.X(refQubits[0]), cirq.X(refQubits[1]), cirq.X(refQubits[2])]\n",
        "            },\n",
        "            { 'circuit': [cirq.X(qubits[0]), cirq.X(qubits[1]), cirq.I(qubits[2])], \n",
        "             'refcircuit': [cirq.X(refQubits[0]), cirq.X(refQubits[1]), cirq.X(refQubits[2])]\n",
        "            },\n",
        "            # |0>+|1>/2L\n",
        "            { 'circuit': [cirq.H(qubits[0]), cirq.CNOT(qubits[0], qubits[1]), cirq.CNOT(qubits[1], qubits[2])], \n",
        "              'refcircuit': [cirq.H(qubits[0]), cirq.CNOT(qubits[0], qubits[1]), cirq.CNOT(qubits[1], qubits[2])]\n",
        "            },\n",
        "          ] \n",
        "\n",
        "def generate_data(qubits, refQubits):\n",
        "    \"\"\"Generate training and testing data.\"\"\"\n",
        "    validStates = getValidStates(qubits, refQubits)\n",
        "    n_rounds = 100\n",
        "    states = []\n",
        "    refStates = []\n",
        "    rng = np.random.default_rng()\n",
        "    for n in range(n_rounds):\n",
        "      circuit = cirq.Circuit()\n",
        "      refCircuit = cirq.Circuit()\n",
        "      indx = rng.integers(0, len(validStates), size=1)[0]\n",
        "      theState = validStates[indx]['circuit']\n",
        "      theRef = validStates[indx]['refcircuit']\n",
        "      for op in theState:\n",
        "        circuit.append(op)\n",
        "      for refOp in theRef:\n",
        "        refCircuit.append(refOp)\n",
        "      states.append(circuit)\n",
        "      refStates.append(refCircuit)\n",
        "\n",
        "    return states, refStates"
      ]
    },
    {
      "cell_type": "code",
      "execution_count": 4,
      "metadata": {
        "colab": {
          "base_uri": "https://localhost:8080/",
          "height": 1000
        },
        "id": "cqJLsWdudSfh",
        "outputId": "f599a991-88ae-40d1-ea56-8240846b5ca9"
      },
      "outputs": [
        {
          "output_type": "stream",
          "name": "stdout",
          "text": [
            "12\n",
            "Epoch 1/100\n",
            "9/9 [==============================] - 5s 332ms/step - loss: 0.5696 - custom_accuracy: 1.0000 - val_loss: 0.3531 - val_custom_accuracy: 1.0000\n",
            "Epoch 2/100\n",
            "9/9 [==============================] - 3s 369ms/step - loss: 0.2482 - custom_accuracy: 1.0000 - val_loss: 0.1482 - val_custom_accuracy: 1.0000\n",
            "Epoch 3/100\n",
            "9/9 [==============================] - 4s 480ms/step - loss: 0.1388 - custom_accuracy: 1.0000 - val_loss: 0.1261 - val_custom_accuracy: 1.0000\n",
            "Epoch 4/100\n",
            "9/9 [==============================] - 3s 316ms/step - loss: 0.1055 - custom_accuracy: 1.0000 - val_loss: 0.0836 - val_custom_accuracy: 1.0000\n",
            "Epoch 5/100\n",
            "9/9 [==============================] - 3s 334ms/step - loss: 0.0818 - custom_accuracy: 1.0000 - val_loss: 0.0690 - val_custom_accuracy: 1.0000\n",
            "Epoch 6/100\n",
            "9/9 [==============================] - 3s 346ms/step - loss: 0.0731 - custom_accuracy: 1.0000 - val_loss: 0.0690 - val_custom_accuracy: 1.0000\n",
            "Epoch 7/100\n",
            "9/9 [==============================] - 3s 334ms/step - loss: 0.0653 - custom_accuracy: 1.0000 - val_loss: 0.0809 - val_custom_accuracy: 1.0000\n",
            "Epoch 8/100\n",
            "9/9 [==============================] - 3s 326ms/step - loss: 0.0659 - custom_accuracy: 1.0000 - val_loss: 0.0664 - val_custom_accuracy: 1.0000\n",
            "Epoch 9/100\n",
            "9/9 [==============================] - 3s 324ms/step - loss: 0.0596 - custom_accuracy: 1.0000 - val_loss: 0.0515 - val_custom_accuracy: 1.0000\n",
            "Epoch 10/100\n",
            "9/9 [==============================] - 3s 329ms/step - loss: 0.0552 - custom_accuracy: 1.0000 - val_loss: 0.0432 - val_custom_accuracy: 1.0000\n",
            "Epoch 11/100\n",
            "9/9 [==============================] - 3s 334ms/step - loss: 0.0525 - custom_accuracy: 1.0000 - val_loss: 0.0499 - val_custom_accuracy: 1.0000\n",
            "Epoch 12/100\n",
            "9/9 [==============================] - 3s 334ms/step - loss: 0.0525 - custom_accuracy: 1.0000 - val_loss: 0.0469 - val_custom_accuracy: 1.0000\n",
            "Epoch 13/100\n",
            "9/9 [==============================] - 3s 331ms/step - loss: 0.0500 - custom_accuracy: 1.0000 - val_loss: 0.0421 - val_custom_accuracy: 1.0000\n",
            "Epoch 14/100\n",
            "9/9 [==============================] - 3s 323ms/step - loss: 0.0487 - custom_accuracy: 1.0000 - val_loss: 0.0308 - val_custom_accuracy: 1.0000\n",
            "Epoch 15/100\n",
            "9/9 [==============================] - 3s 333ms/step - loss: 0.0450 - custom_accuracy: 1.0000 - val_loss: 0.0408 - val_custom_accuracy: 1.0000\n",
            "Epoch 16/100\n",
            "9/9 [==============================] - 3s 317ms/step - loss: 0.0455 - custom_accuracy: 1.0000 - val_loss: 0.0348 - val_custom_accuracy: 1.0000\n",
            "Epoch 17/100\n",
            "9/9 [==============================] - 3s 338ms/step - loss: 0.0470 - custom_accuracy: 1.0000 - val_loss: 0.0318 - val_custom_accuracy: 1.0000\n",
            "Epoch 18/100\n",
            "9/9 [==============================] - 3s 339ms/step - loss: 0.0457 - custom_accuracy: 1.0000 - val_loss: 0.0285 - val_custom_accuracy: 1.0000\n",
            "Epoch 19/100\n",
            "9/9 [==============================] - 3s 336ms/step - loss: 0.0428 - custom_accuracy: 1.0000 - val_loss: 0.0337 - val_custom_accuracy: 1.0000\n",
            "Epoch 20/100\n",
            "9/9 [==============================] - 3s 320ms/step - loss: 0.0426 - custom_accuracy: 1.0000 - val_loss: 0.0237 - val_custom_accuracy: 1.0000\n",
            "Epoch 21/100\n",
            "9/9 [==============================] - 3s 340ms/step - loss: 0.0381 - custom_accuracy: 1.0000 - val_loss: 0.0189 - val_custom_accuracy: 1.0000\n",
            "Epoch 22/100\n",
            "9/9 [==============================] - 3s 332ms/step - loss: 0.0359 - custom_accuracy: 1.0000 - val_loss: 0.0205 - val_custom_accuracy: 1.0000\n",
            "Epoch 23/100\n",
            "9/9 [==============================] - 3s 340ms/step - loss: 0.0325 - custom_accuracy: 1.0000 - val_loss: 0.0183 - val_custom_accuracy: 1.0000\n",
            "Epoch 24/100\n",
            "9/9 [==============================] - 4s 430ms/step - loss: 0.0327 - custom_accuracy: 1.0000 - val_loss: 0.0132 - val_custom_accuracy: 1.0000\n",
            "Epoch 25/100\n",
            "9/9 [==============================] - 3s 332ms/step - loss: 0.0303 - custom_accuracy: 1.0000 - val_loss: 0.0146 - val_custom_accuracy: 1.0000\n",
            "Epoch 26/100\n",
            "9/9 [==============================] - 3s 318ms/step - loss: 0.0300 - custom_accuracy: 1.0000 - val_loss: 0.0134 - val_custom_accuracy: 1.0000\n",
            "Epoch 27/100\n",
            "9/9 [==============================] - 3s 385ms/step - loss: 0.0302 - custom_accuracy: 1.0000 - val_loss: 0.0132 - val_custom_accuracy: 1.0000\n",
            "Epoch 28/100\n",
            "9/9 [==============================] - 3s 330ms/step - loss: 0.0295 - custom_accuracy: 1.0000 - val_loss: 0.0083 - val_custom_accuracy: 1.0000\n",
            "Epoch 29/100\n",
            "9/9 [==============================] - 3s 322ms/step - loss: 0.0282 - custom_accuracy: 1.0000 - val_loss: 0.0092 - val_custom_accuracy: 1.0000\n",
            "Epoch 30/100\n",
            "9/9 [==============================] - 3s 334ms/step - loss: 0.0272 - custom_accuracy: 1.0000 - val_loss: 0.0074 - val_custom_accuracy: 1.0000\n",
            "Epoch 31/100\n",
            "9/9 [==============================] - 3s 344ms/step - loss: 0.0273 - custom_accuracy: 1.0000 - val_loss: 0.0067 - val_custom_accuracy: 1.0000\n",
            "Epoch 32/100\n",
            "9/9 [==============================] - 3s 333ms/step - loss: 0.0272 - custom_accuracy: 1.0000 - val_loss: 0.0050 - val_custom_accuracy: 1.0000\n",
            "Epoch 33/100\n",
            "9/9 [==============================] - 3s 354ms/step - loss: 0.0297 - custom_accuracy: 1.0000 - val_loss: 0.0070 - val_custom_accuracy: 1.0000\n",
            "Epoch 34/100\n",
            "9/9 [==============================] - 3s 336ms/step - loss: 0.0296 - custom_accuracy: 1.0000 - val_loss: 0.0119 - val_custom_accuracy: 1.0000\n",
            "Epoch 35/100\n",
            "9/9 [==============================] - 3s 332ms/step - loss: 0.0283 - custom_accuracy: 1.0000 - val_loss: 0.0068 - val_custom_accuracy: 1.0000\n",
            "Epoch 36/100\n",
            "9/9 [==============================] - 3s 334ms/step - loss: 0.0284 - custom_accuracy: 1.0000 - val_loss: 0.0094 - val_custom_accuracy: 1.0000\n",
            "Epoch 37/100\n",
            "9/9 [==============================] - 3s 345ms/step - loss: 0.0277 - custom_accuracy: 1.0000 - val_loss: 0.0075 - val_custom_accuracy: 1.0000\n",
            "Epoch 38/100\n",
            "9/9 [==============================] - 3s 342ms/step - loss: 0.0284 - custom_accuracy: 1.0000 - val_loss: 0.0153 - val_custom_accuracy: 1.0000\n",
            "Epoch 39/100\n",
            "9/9 [==============================] - 3s 323ms/step - loss: 0.0283 - custom_accuracy: 1.0000 - val_loss: 0.0057 - val_custom_accuracy: 1.0000\n",
            "Epoch 40/100\n",
            "9/9 [==============================] - 3s 328ms/step - loss: 0.0275 - custom_accuracy: 1.0000 - val_loss: 0.0084 - val_custom_accuracy: 1.0000\n",
            "Epoch 41/100\n",
            "9/9 [==============================] - 3s 334ms/step - loss: 0.0272 - custom_accuracy: 1.0000 - val_loss: 0.0077 - val_custom_accuracy: 1.0000\n",
            "Epoch 42/100\n",
            "9/9 [==============================] - 3s 349ms/step - loss: 0.0279 - custom_accuracy: 1.0000 - val_loss: 0.0069 - val_custom_accuracy: 1.0000\n",
            "Epoch 43/100\n",
            "9/9 [==============================] - 3s 347ms/step - loss: 0.0303 - custom_accuracy: 1.0000 - val_loss: 0.0095 - val_custom_accuracy: 1.0000\n",
            "Epoch 44/100\n",
            "9/9 [==============================] - 3s 327ms/step - loss: 0.0302 - custom_accuracy: 1.0000 - val_loss: 0.0144 - val_custom_accuracy: 1.0000\n",
            "Epoch 45/100\n",
            "9/9 [==============================] - 3s 334ms/step - loss: 0.0299 - custom_accuracy: 1.0000 - val_loss: 0.0061 - val_custom_accuracy: 1.0000\n",
            "Epoch 46/100\n",
            "9/9 [==============================] - 3s 333ms/step - loss: 0.0297 - custom_accuracy: 1.0000 - val_loss: 0.0201 - val_custom_accuracy: 1.0000\n",
            "Epoch 47/100\n",
            "9/9 [==============================] - 3s 330ms/step - loss: 0.0378 - custom_accuracy: 1.0000 - val_loss: 0.0201 - val_custom_accuracy: 1.0000\n",
            "Epoch 48/100\n",
            "9/9 [==============================] - 3s 353ms/step - loss: 0.0384 - custom_accuracy: 1.0000 - val_loss: 0.0181 - val_custom_accuracy: 1.0000\n",
            "Epoch 49/100\n",
            "9/9 [==============================] - 4s 382ms/step - loss: 0.0321 - custom_accuracy: 1.0000 - val_loss: 0.0089 - val_custom_accuracy: 1.0000\n",
            "Epoch 50/100\n",
            "9/9 [==============================] - 3s 347ms/step - loss: 0.0294 - custom_accuracy: 1.0000 - val_loss: 0.0071 - val_custom_accuracy: 1.0000\n",
            "Epoch 51/100\n",
            "9/9 [==============================] - 3s 344ms/step - loss: 0.0294 - custom_accuracy: 1.0000 - val_loss: 0.0124 - val_custom_accuracy: 1.0000\n",
            "Epoch 52/100\n",
            "9/9 [==============================] - 3s 329ms/step - loss: 0.0289 - custom_accuracy: 1.0000 - val_loss: 0.0074 - val_custom_accuracy: 1.0000\n"
          ]
        },
        {
          "output_type": "display_data",
          "data": {
            "text/plain": [
              "<Figure size 432x288 with 1 Axes>"
            ],
            "image/png": "[encoded data removed]"
          },
          "metadata": {
            "needs_background": "light"
          }
        },
        {
          "output_type": "display_data",
          "data": {
            "text/plain": [
              "<Figure size 432x288 with 1 Axes>"
            ],
            "image/png": "[encoded data removed]"
          },
          "metadata": {
            "needs_background": "light"
          }
        },
        {
          "output_type": "display_data",
          "data": {
            "text/plain": [
              "<Figure size 432x288 with 0 Axes>"
            ]
          },
          "metadata": {}
        }
      ],
      "source": [
        "def layer(qs, params):\n",
        "    circ = cirq.Circuit()\n",
        "    for i in reversed(range(len(qs)-1)):\n",
        "        circ += cirq.CNOT(qs[i], qs[i+1])\n",
        "    for i in range(len(qs)):\n",
        "        circ += cirq.ry(params[2*i]).on(qs[i])\n",
        "        circ += cirq.rz(params[2*i + 1]).on(qs[i])\n",
        "    return circ\n",
        "\n",
        "def make_circuit(qs, state, latent, params, depth, swap_qubit, reference_qubits):\n",
        "    c = cirq.Circuit()\n",
        "    enc_params = params[:len(params) // 2]\n",
        "    dec_params = params[len(params) // 2:]\n",
        "    for i in range(depth):\n",
        "        c += layer(qs[:state], enc_params[2 * i * state:2 * (i + 1) * state])\n",
        "    for i in range(depth):\n",
        "        c += layer(qs[state - latent:], dec_params[2 * i * state:2 * (i + 1) * state])\n",
        "    # SWAP Test\n",
        "    c += cirq.H(swap_qubit)\n",
        "    for i, j in product(range(state), range(state - latent, len(qs))):\n",
        "        c += cirq.ControlledGate(sub_gate=cirq.SWAP, num_controls=1).on(swap_qubit, reference_qubits[i], qs[j])\n",
        "    c += cirq.H(swap_qubit)\n",
        "    return c\n",
        "\n",
        "# Custom accuracy metric.\n",
        "def custom_accuracy(y_true, y_pred):\n",
        "    y_true = tf.squeeze(y_true)\n",
        "    y_pred = tf.map_fn(lambda x: 1.0 if x >= 0 else -1.0, y_pred)\n",
        "    return tf.keras.backend.mean(tf.keras.backend.equal(y_true, y_pred))\n",
        "\n",
        "state_qubits = 4\n",
        "latent_qubits = 1\n",
        "total_qubits = state_qubits + (state_qubits - latent_qubits)\n",
        "\n",
        "qubits = [cirq.GridQubit(0, i) for i in range(total_qubits + 1 + state_qubits)]\n",
        "print(len(qubits))\n",
        "states, reference_states = generate_data(qubits[:state_qubits], qubits[total_qubits + 1:])\n",
        "states = list(states)\n",
        "reference_states = list(reference_states)\n",
        "temp = list(zip(states, reference_states))\n",
        "random.shuffle(temp)\n",
        "states, reference_states = zip(*temp)\n",
        "\n",
        "#layers = 4\n",
        "#layers = 20\n",
        "layers = 10\n",
        "\n",
        "num_params = 4 * state_qubits * layers\n",
        "parameters = sympy.symbols(\"q0:%d\"%num_params)\n",
        "\n",
        "train_size = 9 * len(states) // 10\n",
        "test_size = len(states) - train_size\n",
        "training_states = states[:train_size]\n",
        "testing_states = states[train_size:]\n",
        "reference_states_train = reference_states[:train_size]\n",
        "reference_states_test = reference_states[train_size:]\n",
        "train_circuits = [training_states[i]  + reference_states_train[i] for i in range(train_size)]\n",
        "test_circuits = [testing_states[i] + reference_states_test[i] for i in range(test_size)]\n",
        "#print(make_circuit(qubits[:total_qubits], state_qubits, latent_qubits, parameters, layers, qubits[total_qubits], qubits[total_qubits + 1:]))\n",
        "#print(training_states[0]  + reference_states[0] + make_circuit(qubits[:total_qubits], state_qubits, latent_qubits, parameters, layers, qubits[total_qubits], qubits[total_qubits + 1:]))\n",
        "#print(train_circuits[0])\n",
        "#print(training_states[0])\n",
        "c = make_circuit(qubits[:total_qubits], state_qubits, latent_qubits, parameters, layers, qubits[total_qubits], qubits[total_qubits + 1:])\n",
        "#print(c)\n",
        "readout_operators = [cirq.Z(qubits[total_qubits])]\n",
        "inputs = tf.keras.Input(shape=(), dtype=tf.dtypes.string)\n",
        "layer1 = tfq.layers.PQC(c, readout_operators, differentiator=tfq.differentiators.Adjoint())(inputs)\n",
        "autoencoder = tf.keras.models.Model(inputs=inputs, outputs=layer1)\n",
        "autoencoder.compile(loss='mae',optimizer=tf.keras.optimizers.Adam(learning_rate=0.1), metrics=[custom_accuracy])\n",
        "callback = tf.keras.callbacks.EarlyStopping(monitor='val_loss', patience=20)\n",
        "\n",
        "X_train = tfq.convert_to_tensor(train_circuits)\n",
        "X_test = tfq.convert_to_tensor(test_circuits)\n",
        "\n",
        "y_train = np.ones(shape=len(train_circuits))\n",
        "y_test = np.ones(shape=len(test_circuits))\n",
        "\n",
        "history = autoencoder.fit(X_train, y_train, epochs=100, batch_size=10, validation_data=(X_test, y_test), callbacks=[callback])\n",
        "\n",
        "plt.plot(history.history['loss'], label='Train')\n",
        "plt.plot(history.history['val_loss'], label='Test')\n",
        "plt.legend()\n",
        "plt.xlabel(\"Iteration\")\n",
        "plt.ylabel(\"1 - Fidelity\")\n",
        "plt.show()\n",
        "plt.savefig(\"loss_comp\")\n",
        "\n",
        "plt.plot(history.history['custom_accuracy'], label='Train')\n",
        "plt.plot(history.history['val_custom_accuracy'], label='Test')\n",
        "plt.legend()\n",
        "plt.xlabel(\"Iteration\")\n",
        "plt.ylabel(\"2 - Custom Accuracy\")\n",
        "plt.show()\n",
        "plt.savefig(\"custom_accuracy\")"
      ]
    }
  ],
  "metadata": {
    "colab": {
      "collapsed_sections": [],
      "name": "three-qubit-qae-2.ipynb",
      "provenance": []
    },
    "kernelspec": {
      "display_name": "Python 3",
      "name": "python3"
    },
    "language_info": {
      "name": "python"
    }
  },
  "nbformat": 4,
  "nbformat_minor": 0
}