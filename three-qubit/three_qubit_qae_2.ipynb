{
  "nbformat": 4,
  "nbformat_minor": 0,
  "metadata": {
    "colab": {
      "name": "three-qubit-qae-2.ipynb",
      "provenance": [],
      "collapsed_sections": []
    },
    "kernelspec": {
      "name": "python3",
      "display_name": "Python 3"
    },
    "language_info": {
      "name": "python"
    }
  },
  "cells": [
    {
      "cell_type": "markdown",
      "source": [
        "# Three Qubit Quantum Autoencoder"
      ],
      "metadata": {
        "id": "HSyYDby6dvsA"
      }
    },
    {
      "cell_type": "markdown",
      "source": [
        "From https://github.com/lockwo/quantum_computation/blob/6d2c73ff9ac129478e82e8ddcfed41cdcd7b83b9/TFQ/QAE/quantum_autoencoder.py#L19"
      ],
      "metadata": {
        "id": "2BzG6-iWd3RX"
      }
    },
    {
      "cell_type": "code",
      "source": [
        "!pip install cirq"
      ],
      "metadata": {
        "id": "W-sks0ald5H3"
      },
      "execution_count": null,
      "outputs": []
    },
    {
      "cell_type": "code",
      "source": [
        "!pip install tensorflow==2.7.0"
      ],
      "metadata": {
        "id": "pLAmdxaXd7cK"
      },
      "execution_count": null,
      "outputs": []
    },
    {
      "cell_type": "code",
      "source": [
        "!pip install tensorflow-quantum"
      ],
      "metadata": {
        "id": "6TSxIMIzd-ze"
      },
      "execution_count": null,
      "outputs": []
    },
    {
      "cell_type": "code",
      "source": [
        "# Update package resources to account for version changes.\n",
        "import importlib, pkg_resources\n",
        "importlib.reload(pkg_resources)"
      ],
      "metadata": {
        "colab": {
          "base_uri": "https://localhost:8080/"
        },
        "id": "zc6Qu7gCeBCq",
        "outputId": "2e6ed081-605a-44c5-bd0a-7a7eb0cb56f4"
      },
      "execution_count": 1,
      "outputs": [
        {
          "output_type": "execute_result",
          "data": {
            "text/plain": [
              "<module 'pkg_resources' from '/usr/local/lib/python3.7/dist-packages/pkg_resources/__init__.py'>"
            ]
          },
          "metadata": {},
          "execution_count": 1
        }
      ]
    },
    {
      "cell_type": "code",
      "source": [
        "import tensorflow_quantum as tfq\n",
        "import cirq \n",
        "import sympy\n",
        "import numpy as np\n",
        "import tensorflow as tf\n",
        "import matplotlib.pyplot as plt\n",
        "import random\n",
        "from itertools import product"
      ],
      "metadata": {
        "id": "y3wNRcbHeHQ6"
      },
      "execution_count": 2,
      "outputs": []
    },
    {
      "cell_type": "code",
      "source": [
        "# Right now states  are |0>L and |1>L (TODO add |+> and |-> => Just train on |-> as paper suggested)\n",
        "def getValidStates(qubits, refQubits):\n",
        "    return [ #|0>L\n",
        "            { 'circuit': [cirq.I(qubits[0]), cirq.I(qubits[1]), cirq.I(qubits[2])], \n",
        "              'refcircuit': [cirq.I(refQubits[0]), cirq.I(refQubits[1]), cirq.I(refQubits[2])] \n",
        "            }, \n",
        "            { 'circuit': [cirq.X(qubits[0]), cirq.I(qubits[1]), cirq.I(qubits[2])], \n",
        "              'refcircuit': [cirq.I(refQubits[0]), cirq.I(refQubits[1]), cirq.I(refQubits[2])] \n",
        "            }, \n",
        "            { 'circuit': [cirq.I(qubits[0]), cirq.X(qubits[1]), cirq.I(qubits[2])],\n",
        "              'refcircuit': [cirq.I(refQubits[0]), cirq.I(refQubits[1]), cirq.I(refQubits[2])] \n",
        "            },\n",
        "            { 'circuit': [cirq.I(qubits[0]), cirq.I(qubits[1]), cirq.X(qubits[2])],\n",
        "              'refcircuit': [cirq.I(refQubits[0]), cirq.I(refQubits[1]), cirq.I(refQubits[2])] \n",
        "            },\n",
        "            # |1>L\n",
        "            { 'circuit': [cirq.X(qubits[0]), cirq.X(qubits[1]), cirq.X(qubits[2])],\n",
        "              'refcircuit': [cirq.X(refQubits[0]), cirq.X(refQubits[1]), cirq.X(refQubits[2])] \n",
        "            },\n",
        "            { 'circuit': [cirq.I(qubits[0]), cirq.X(qubits[1]), cirq.X(qubits[2])], \n",
        "              'refcircuit': [cirq.X(refQubits[0]), cirq.X(refQubits[1]), cirq.X(refQubits[2])]\n",
        "            },\n",
        "            { 'circuit': [cirq.X(qubits[0]), cirq.I(qubits[1]), cirq.X(qubits[2])], \n",
        "              'refcircuit': [cirq.X(refQubits[0]), cirq.X(refQubits[1]), cirq.X(refQubits[2])]\n",
        "            },\n",
        "            { 'circuit': [cirq.X(qubits[0]), cirq.X(qubits[1]), cirq.I(qubits[2])], \n",
        "             'refcircuit': [cirq.X(refQubits[0]), cirq.X(refQubits[1]), cirq.X(refQubits[2])]\n",
        "            }\n",
        "          ] \n",
        "\n",
        "def generate_data(qubits, refQubits):\n",
        "    \"\"\"Generate training and testing data.\"\"\"\n",
        "    validStates = getValidStates(qubits, refQubits)\n",
        "    n_rounds = 100\n",
        "    states = []\n",
        "    refStates = []\n",
        "    rng = np.random.default_rng()\n",
        "    for n in range(n_rounds):\n",
        "      circuit = cirq.Circuit()\n",
        "      refCircuit = cirq.Circuit()\n",
        "      indx = rng.integers(0, len(validStates), size=1)[0]\n",
        "      theState = validStates[indx]['circuit']\n",
        "      theRef = validStates[indx]['refcircuit']\n",
        "      for op in theState:\n",
        "        circuit.append(op)\n",
        "      for refOp in theRef:\n",
        "        refCircuit.append(refOp)\n",
        "      states.append(circuit)\n",
        "      refStates.append(refCircuit)\n",
        "\n",
        "    return states, refStates"
      ],
      "metadata": {
        "id": "mB3K9ccNeKnl"
      },
      "execution_count": 3,
      "outputs": []
    },
    {
      "cell_type": "code",
      "source": [
        "def layer(qs, params):\n",
        "    circ = cirq.Circuit()\n",
        "    for i in reversed(range(len(qs)-1)):\n",
        "        circ += cirq.CNOT(qs[i], qs[i+1])\n",
        "    for i in range(len(qs)):\n",
        "        circ += cirq.ry(params[2*i]).on(qs[i])\n",
        "        circ += cirq.rz(params[2*i + 1]).on(qs[i])\n",
        "    return circ\n",
        "\n",
        "def make_circuit(qs, state, latent, params, depth, swap_qubit, reference_qubits):\n",
        "    c = cirq.Circuit()\n",
        "    enc_params = params[:len(params) // 2]\n",
        "    dec_params = params[len(params) // 2:]\n",
        "    for i in range(depth):\n",
        "        c += layer(qs[:state], enc_params[2 * i * state:2 * (i + 1) * state])\n",
        "    for i in range(depth):\n",
        "        c += layer(qs[state - latent:], dec_params[2 * i * state:2 * (i + 1) * state])\n",
        "    # SWAP Test\n",
        "    c += cirq.H(swap_qubit)\n",
        "    for i, j in product(range(state), range(state - latent, len(qs))):\n",
        "        c += cirq.ControlledGate(sub_gate=cirq.SWAP, num_controls=1).on(swap_qubit, reference_qubits[i], qs[j])\n",
        "    c += cirq.H(swap_qubit)\n",
        "    return c\n",
        "\n",
        "# Custom accuracy metric.\n",
        "def custom_accuracy(y_true, y_pred):\n",
        "    y_true = tf.squeeze(y_true)\n",
        "    y_pred = tf.map_fn(lambda x: 1.0 if x >= 0 else -1.0, y_pred)\n",
        "    return tf.keras.backend.mean(tf.keras.backend.equal(y_true, y_pred))\n",
        "\n",
        "state_qubits = 4\n",
        "latent_qubits = 1\n",
        "total_qubits = state_qubits + (state_qubits - latent_qubits)\n",
        "\n",
        "qubits = [cirq.GridQubit(0, i) for i in range(total_qubits + 1 + state_qubits)]\n",
        "print(len(qubits))\n",
        "states, reference_states = generate_data(qubits[:state_qubits], qubits[total_qubits + 1:])\n",
        "states = list(states)\n",
        "reference_states = list(reference_states)\n",
        "temp = list(zip(states, reference_states))\n",
        "random.shuffle(temp)\n",
        "states, reference_states = zip(*temp)\n",
        "\n",
        "layers = 4\n",
        "\n",
        "num_params = 4 * state_qubits * layers\n",
        "parameters = sympy.symbols(\"q0:%d\"%num_params)\n",
        "\n",
        "train_size = 9 * len(states) // 10\n",
        "test_size = len(states) - train_size\n",
        "training_states = states[:train_size]\n",
        "testing_states = states[train_size:]\n",
        "reference_states_train = reference_states[:train_size]\n",
        "reference_states_test = reference_states[train_size:]\n",
        "train_circuits = [training_states[i]  + reference_states_train[i] for i in range(train_size)]\n",
        "test_circuits = [testing_states[i] + reference_states_test[i] for i in range(test_size)]\n",
        "#print(make_circuit(qubits[:total_qubits], state_qubits, latent_qubits, parameters, layers, qubits[total_qubits], qubits[total_qubits + 1:]))\n",
        "#print(training_states[0]  + reference_states[0] + make_circuit(qubits[:total_qubits], state_qubits, latent_qubits, parameters, layers, qubits[total_qubits], qubits[total_qubits + 1:]))\n",
        "#print(train_circuits[0])\n",
        "#print(training_states[0])\n",
        "c = make_circuit(qubits[:total_qubits], state_qubits, latent_qubits, parameters, layers, qubits[total_qubits], qubits[total_qubits + 1:])\n",
        "#print(c)\n",
        "readout_operators = [cirq.Z(qubits[total_qubits])]\n",
        "inputs = tf.keras.Input(shape=(), dtype=tf.dtypes.string)\n",
        "layer1 = tfq.layers.PQC(c, readout_operators, differentiator=tfq.differentiators.Adjoint())(inputs)\n",
        "autoencoder = tf.keras.models.Model(inputs=inputs, outputs=layer1)\n",
        "autoencoder.compile(loss='mae',optimizer=tf.keras.optimizers.Adam(learning_rate=0.1), metrics=[custom_accuracy])\n",
        "callback = tf.keras.callbacks.EarlyStopping(monitor='val_loss', patience=20)\n",
        "\n",
        "X_train = tfq.convert_to_tensor(train_circuits)\n",
        "X_test = tfq.convert_to_tensor(test_circuits)\n",
        "\n",
        "y_train = np.ones(shape=len(train_circuits))\n",
        "y_test = np.ones(shape=len(test_circuits))\n",
        "\n",
        "history = autoencoder.fit(X_train, y_train, epochs=100, batch_size=10, validation_data=(X_test, y_test), callbacks=[callback])\n",
        "\n",
        "plt.plot(history.history['loss'], label='Train')\n",
        "plt.plot(history.history['val_loss'], label='Test')\n",
        "plt.legend()\n",
        "plt.xlabel(\"Iteration\")\n",
        "plt.ylabel(\"1 - Fidelity\")\n",
        "plt.show()\n",
        "plt.savefig(\"loss_comp\")\n",
        "\n",
        "plt.plot(history.history['custom_accuracy'], label='Train')\n",
        "plt.plot(history.history['val_custom_accuracy'], label='Test')\n",
        "plt.legend()\n",
        "plt.xlabel(\"Iteration\")\n",
        "plt.ylabel(\"2 - Custom Accuracy\")\n",
        "plt.show()\n",
        "plt.savefig(\"custom_accuracy\")"
      ],
      "metadata": {
        "colab": {
          "base_uri": "https://localhost:8080/",
          "height": 1000
        },
        "id": "cqJLsWdudSfh",
        "outputId": "7f364f41-05f0-4ef8-9899-b1a30e6dc8f8"
      },
      "execution_count": 5,
      "outputs": [
        {
          "output_type": "stream",
          "name": "stdout",
          "text": [
            "12\n",
            "Epoch 1/100\n",
            "9/9 [==============================] - 5s 385ms/step - loss: 0.8216 - custom_accuracy: 1.0000 - val_loss: 0.7114 - val_custom_accuracy: 1.0000\n",
            "Epoch 2/100\n",
            "9/9 [==============================] - 2s 255ms/step - loss: 0.6311 - custom_accuracy: 1.0000 - val_loss: 0.6145 - val_custom_accuracy: 1.0000\n",
            "Epoch 3/100\n",
            "9/9 [==============================] - 2s 247ms/step - loss: 0.5179 - custom_accuracy: 1.0000 - val_loss: 0.4239 - val_custom_accuracy: 1.0000\n",
            "Epoch 4/100\n",
            "9/9 [==============================] - 2s 233ms/step - loss: 0.2793 - custom_accuracy: 1.0000 - val_loss: 0.1762 - val_custom_accuracy: 1.0000\n",
            "Epoch 5/100\n",
            "9/9 [==============================] - 2s 264ms/step - loss: 0.1940 - custom_accuracy: 1.0000 - val_loss: 0.2291 - val_custom_accuracy: 1.0000\n",
            "Epoch 6/100\n",
            "9/9 [==============================] - 2s 252ms/step - loss: 0.1733 - custom_accuracy: 1.0000 - val_loss: 0.1476 - val_custom_accuracy: 1.0000\n",
            "Epoch 7/100\n",
            "9/9 [==============================] - 2s 277ms/step - loss: 0.1616 - custom_accuracy: 1.0000 - val_loss: 0.1819 - val_custom_accuracy: 1.0000\n",
            "Epoch 8/100\n",
            "9/9 [==============================] - 2s 252ms/step - loss: 0.1592 - custom_accuracy: 1.0000 - val_loss: 0.1489 - val_custom_accuracy: 1.0000\n",
            "Epoch 9/100\n",
            "9/9 [==============================] - 3s 304ms/step - loss: 0.1506 - custom_accuracy: 1.0000 - val_loss: 0.1538 - val_custom_accuracy: 1.0000\n",
            "Epoch 10/100\n",
            "9/9 [==============================] - 3s 295ms/step - loss: 0.1504 - custom_accuracy: 1.0000 - val_loss: 0.1570 - val_custom_accuracy: 1.0000\n",
            "Epoch 11/100\n",
            "9/9 [==============================] - 2s 268ms/step - loss: 0.1545 - custom_accuracy: 1.0000 - val_loss: 0.1735 - val_custom_accuracy: 1.0000\n",
            "Epoch 12/100\n",
            "9/9 [==============================] - 2s 249ms/step - loss: 0.1535 - custom_accuracy: 1.0000 - val_loss: 0.1197 - val_custom_accuracy: 1.0000\n",
            "Epoch 13/100\n",
            "9/9 [==============================] - 2s 254ms/step - loss: 0.1575 - custom_accuracy: 1.0000 - val_loss: 0.1853 - val_custom_accuracy: 1.0000\n",
            "Epoch 14/100\n",
            "9/9 [==============================] - 2s 253ms/step - loss: 0.1519 - custom_accuracy: 1.0000 - val_loss: 0.1573 - val_custom_accuracy: 1.0000\n",
            "Epoch 15/100\n",
            "9/9 [==============================] - 3s 286ms/step - loss: 0.1459 - custom_accuracy: 1.0000 - val_loss: 0.1603 - val_custom_accuracy: 1.0000\n",
            "Epoch 16/100\n",
            "9/9 [==============================] - 2s 224ms/step - loss: 0.1446 - custom_accuracy: 1.0000 - val_loss: 0.1697 - val_custom_accuracy: 1.0000\n",
            "Epoch 17/100\n",
            "9/9 [==============================] - 2s 230ms/step - loss: 0.1485 - custom_accuracy: 1.0000 - val_loss: 0.1362 - val_custom_accuracy: 1.0000\n",
            "Epoch 18/100\n",
            "9/9 [==============================] - 2s 238ms/step - loss: 0.1479 - custom_accuracy: 1.0000 - val_loss: 0.1862 - val_custom_accuracy: 1.0000\n",
            "Epoch 19/100\n",
            "9/9 [==============================] - 2s 272ms/step - loss: 0.1469 - custom_accuracy: 1.0000 - val_loss: 0.1451 - val_custom_accuracy: 1.0000\n",
            "Epoch 20/100\n",
            "9/9 [==============================] - 3s 365ms/step - loss: 0.1426 - custom_accuracy: 1.0000 - val_loss: 0.1536 - val_custom_accuracy: 1.0000\n",
            "Epoch 21/100\n",
            "9/9 [==============================] - 2s 243ms/step - loss: 0.1451 - custom_accuracy: 1.0000 - val_loss: 0.1797 - val_custom_accuracy: 1.0000\n",
            "Epoch 22/100\n",
            "9/9 [==============================] - 2s 223ms/step - loss: 0.1462 - custom_accuracy: 1.0000 - val_loss: 0.1506 - val_custom_accuracy: 1.0000\n",
            "Epoch 23/100\n",
            "9/9 [==============================] - 2s 245ms/step - loss: 0.1415 - custom_accuracy: 1.0000 - val_loss: 0.1737 - val_custom_accuracy: 1.0000\n",
            "Epoch 24/100\n",
            "9/9 [==============================] - 2s 282ms/step - loss: 0.1555 - custom_accuracy: 1.0000 - val_loss: 0.1357 - val_custom_accuracy: 1.0000\n",
            "Epoch 25/100\n",
            "9/9 [==============================] - 3s 295ms/step - loss: 0.1444 - custom_accuracy: 1.0000 - val_loss: 0.1943 - val_custom_accuracy: 1.0000\n",
            "Epoch 26/100\n",
            "9/9 [==============================] - 2s 281ms/step - loss: 0.1539 - custom_accuracy: 1.0000 - val_loss: 0.1459 - val_custom_accuracy: 1.0000\n",
            "Epoch 27/100\n",
            "9/9 [==============================] - 2s 247ms/step - loss: 0.1505 - custom_accuracy: 1.0000 - val_loss: 0.1834 - val_custom_accuracy: 1.0000\n",
            "Epoch 28/100\n",
            "9/9 [==============================] - 2s 265ms/step - loss: 0.1467 - custom_accuracy: 1.0000 - val_loss: 0.1591 - val_custom_accuracy: 1.0000\n",
            "Epoch 29/100\n",
            "9/9 [==============================] - 2s 258ms/step - loss: 0.1477 - custom_accuracy: 1.0000 - val_loss: 0.1575 - val_custom_accuracy: 1.0000\n",
            "Epoch 30/100\n",
            "9/9 [==============================] - 2s 208ms/step - loss: 0.1465 - custom_accuracy: 1.0000 - val_loss: 0.1789 - val_custom_accuracy: 1.0000\n",
            "Epoch 31/100\n",
            "9/9 [==============================] - 2s 276ms/step - loss: 0.1463 - custom_accuracy: 1.0000 - val_loss: 0.1472 - val_custom_accuracy: 1.0000\n",
            "Epoch 32/100\n",
            "9/9 [==============================] - 2s 262ms/step - loss: 0.1502 - custom_accuracy: 1.0000 - val_loss: 0.1930 - val_custom_accuracy: 1.0000\n"
          ]
        },
        {
          "output_type": "display_data",
          "data": {
            "text/plain": [
              "<Figure size 432x288 with 1 Axes>"
            ],
            "image/png": "[encoded data removed]"
          },
          "metadata": {
            "needs_background": "light"
          }
        },
        {
          "output_type": "display_data",
          "data": {
            "text/plain": [
              "<Figure size 432x288 with 1 Axes>"
            ],
            "image/png": "[encoded data removed]"
          },
          "metadata": {
            "needs_background": "light"
          }
        },
        {
          "output_type": "display_data",
          "data": {
            "text/plain": [
              "<Figure size 432x288 with 0 Axes>"
            ]
          },
          "metadata": {}
        }
      ]
    }
  ]
}