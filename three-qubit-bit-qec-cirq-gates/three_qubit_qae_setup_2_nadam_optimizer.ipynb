{
  "cells": [
    {
      "cell_type": "markdown",
      "metadata": {
        "id": "HSyYDby6dvsA"
      },
      "source": [
        "# Three Qubit Quantum Autoencoder"
      ]
    },
    {
      "cell_type": "markdown",
      "metadata": {
        "id": "2BzG6-iWd3RX"
      },
      "source": [
        "Adapted from https://github.com/lockwo/quantum_computation/blob/6d2c73ff9ac129478e82e8ddcfed41cdcd7b83b9/TFQ/QAE/quantum_autoencoder.py#L19"
      ]
    },
    {
      "cell_type": "code",
      "execution_count": null,
      "metadata": {
        "id": "W-sks0ald5H3"
      },
      "outputs": [],
      "source": [
        "!pip install cirq"
      ]
    },
    {
      "cell_type": "code",
      "execution_count": null,
      "metadata": {
        "id": "pLAmdxaXd7cK"
      },
      "outputs": [],
      "source": [
        "!pip install tensorflow==2.7.0"
      ]
    },
    {
      "cell_type": "code",
      "execution_count": null,
      "metadata": {
        "id": "6TSxIMIzd-ze"
      },
      "outputs": [],
      "source": [
        "!pip install tensorflow-quantum"
      ]
    },
    {
      "cell_type": "code",
      "execution_count": null,
      "metadata": {
        "id": "zc6Qu7gCeBCq"
      },
      "outputs": [],
      "source": [
        "# Update package resources to account for version changes.\n",
        "import importlib, pkg_resources\n",
        "importlib.reload(pkg_resources)"
      ]
    },
    {
      "cell_type": "code",
      "execution_count": null,
      "metadata": {
        "id": "y3wNRcbHeHQ6"
      },
      "outputs": [],
      "source": [
        "import tensorflow_quantum as tfq\n",
        "import cirq \n",
        "import sympy\n",
        "import numpy as np\n",
        "import tensorflow as tf\n",
        "import matplotlib.pyplot as plt\n",
        "import random\n",
        "from itertools import product\n",
        "import math"
      ]
    },
    {
      "cell_type": "code",
      "execution_count": null,
      "metadata": {
        "id": "mB3K9ccNeKnl"
      },
      "outputs": [],
      "source": [
        "# States are |0>L, |1>L and |+>L (only the legitimate state)\n",
        "def getStates(qubits, refQubits):\n",
        "    return [ #|0>L\n",
        "            { 'circuit': [cirq.I(qubits[0]), cirq.I(qubits[1]), cirq.I(qubits[2])], \n",
        "              'refcircuit': [cirq.I(refQubits[0]), cirq.I(refQubits[1]), cirq.I(refQubits[2])] \n",
        "            }, \n",
        "            { 'circuit': [cirq.X(qubits[0]), cirq.I(qubits[1]), cirq.I(qubits[2])], \n",
        "              'refcircuit': [cirq.I(refQubits[0]), cirq.I(refQubits[1]), cirq.I(refQubits[2])] \n",
        "            }, \n",
        "            { 'circuit': [cirq.I(qubits[0]), cirq.X(qubits[1]), cirq.I(qubits[2])],\n",
        "              'refcircuit': [cirq.I(refQubits[0]), cirq.I(refQubits[1]), cirq.I(refQubits[2])] \n",
        "            },\n",
        "            { 'circuit': [cirq.I(qubits[0]), cirq.I(qubits[1]), cirq.X(qubits[2])],\n",
        "              'refcircuit': [cirq.I(refQubits[0]), cirq.I(refQubits[1]), cirq.I(refQubits[2])] \n",
        "            },\n",
        "            # |1>L\n",
        "            { 'circuit': [cirq.X(qubits[0]), cirq.X(qubits[1]), cirq.X(qubits[2])],\n",
        "              'refcircuit': [cirq.X(refQubits[0]), cirq.X(refQubits[1]), cirq.X(refQubits[2])] \n",
        "            },\n",
        "            { 'circuit': [cirq.I(qubits[0]), cirq.X(qubits[1]), cirq.X(qubits[2])], \n",
        "              'refcircuit': [cirq.X(refQubits[0]), cirq.X(refQubits[1]), cirq.X(refQubits[2])]\n",
        "            },\n",
        "            { 'circuit': [cirq.X(qubits[0]), cirq.I(qubits[1]), cirq.X(qubits[2])], \n",
        "              'refcircuit': [cirq.X(refQubits[0]), cirq.X(refQubits[1]), cirq.X(refQubits[2])]\n",
        "            },\n",
        "            { 'circuit': [cirq.X(qubits[0]), cirq.X(qubits[1]), cirq.I(qubits[2])], \n",
        "             'refcircuit': [cirq.X(refQubits[0]), cirq.X(refQubits[1]), cirq.X(refQubits[2])]\n",
        "            },\n",
        "            #|+>L\n",
        "            { 'circuit': [cirq.H(qubits[0]), cirq.CNOT(qubits[0], qubits[1]), cirq.CNOT(qubits[1], qubits[2])], \n",
        "              'refcircuit': [cirq.H(qubits[0]), cirq.CNOT(qubits[0], qubits[1]), cirq.CNOT(qubits[1], qubits[2])]\n",
        "            },\n",
        "          ] \n",
        "\n",
        "def generate_data(qubits, refQubits, numOfTrain, numOfTest):\n",
        "    \"\"\"Generate training and testing data.\"\"\"\n",
        "    allTrainStates = getStates(qubits, refQubits)\n",
        "    allTestStates = getStates(qubits, refQubits)\n",
        "    trainStates = []\n",
        "    testStates = []\n",
        "    rng = np.random.default_rng()\n",
        "    \n",
        "    for n in range(numOfTrain):\n",
        "      circuit = cirq.Circuit()\n",
        "      refCircuit = cirq.Circuit()\n",
        "      indx = rng.integers(0, len(allTrainStates), size=1)[0]\n",
        "      theState = allTrainStates[indx]['circuit']\n",
        "      theRef = allTrainStates[indx]['refcircuit']\n",
        "      for op in theState:\n",
        "        circuit.append(op)\n",
        "      for refOp in theRef:\n",
        "        refCircuit.append(refOp)\n",
        "      trainStates.append(circuit + refCircuit)\n",
        " \n",
        "    for n in range(numOfTest):\n",
        "      circuit = cirq.Circuit()\n",
        "      refCircuit = cirq.Circuit()\n",
        "      indx = rng.integers(0, len(allTestStates), size=1)[0]\n",
        "      theState = allTestStates[indx]['circuit']\n",
        "      theRef = allTestStates[indx]['refcircuit']\n",
        "      for op in theState:\n",
        "        circuit.append(op)\n",
        "      for refOp in theRef:\n",
        "        refCircuit.append(refOp)\n",
        "      testStates.append(circuit + refCircuit)\n",
        " \n",
        "\n",
        "    return trainStates, testStates"
      ]
    },
    {
      "cell_type": "code",
      "execution_count": null,
      "metadata": {
        "id": "cqJLsWdudSfh"
      },
      "outputs": [],
      "source": [
        "def layer(qs, params):\n",
        "    circ = cirq.Circuit()\n",
        "\n",
        "    for i in range(len(qs)):\n",
        "      circ += cirq.ry(params[2*i]).on(qs[i])\n",
        "      circ += cirq.rz(params[2*i + 1]).on(qs[i])\n",
        "    for i in range(len(qs)-1):\n",
        "      circ += cirq.CNOT(qs[i], qs[i+1])\n",
        "    for i in range(len(qs)):\n",
        "      circ += cirq.rz(params[2*i + 2]).on(qs[i])\n",
        "\n",
        "    return circ\n",
        "\n",
        "def make_circuit(qs, state, params, depth, swap_qubit, reference_qubits):\n",
        "    c = cirq.Circuit()\n",
        "    enc_params = params[:len(params) // 2]\n",
        "    dec_params = params[len(params) // 2:]\n",
        "    numOfToParam = state+1\n",
        "    for i in range(depth):\n",
        "        c += layer(qs[:state+1], enc_params[2 * i * numOfToParam:2 * (i + 2) * numOfToParam])\n",
        "    for i in range(depth):\n",
        "        c += layer(qs[state:], dec_params[2 * i * numOfToParam:2 * (i + 2) * numOfToParam])\n",
        "    # SWAP Test\n",
        "    c += cirq.H(swap_qubit)\n",
        "    for i, j in product(range(state), range(state+1, len(qs))):\n",
        "        c += cirq.ControlledGate(sub_gate=cirq.SWAP, num_controls=1).on(swap_qubit, reference_qubits[i], qs[j])\n",
        "    c += cirq.H(swap_qubit)\n",
        "    return c\n",
        "\n",
        "state_qubits = 3\n",
        "ref_qubits = state_qubits\n",
        "total_qubits = 7\n",
        "\n",
        "qubits = [cirq.GridQubit(0, i) for i in range(total_qubits + 1 + ref_qubits)]\n",
        "print(len(qubits))\n",
        "train_circuits, test_circuits = generate_data(qubits[:state_qubits], qubits[total_qubits + 1:], 9000, 1000)\n",
        "layers = 1\n",
        "\n",
        "numberOfParamGates = 5\n",
        "num_params = numberOfParamGates * (state_qubits+1) * layers\n",
        "parameters = sympy.symbols(\"q0:%d\"%num_params)\n",
        "c = make_circuit(qubits[:total_qubits], state_qubits, parameters, layers, qubits[total_qubits], qubits[total_qubits + 1:])\n",
        "print(c)\n",
        "readout_operators = [cirq.Z(qubits[total_qubits])]\n",
        "inputs = tf.keras.Input(shape=(), dtype=tf.dtypes.string)\n",
        "layer1 = tfq.layers.PQC(c, readout_operators, differentiator=tfq.differentiators.ForwardDifference())(inputs)\n",
        "autoencoder = tf.keras.models.Model(inputs=inputs, outputs=layer1)\n",
        "autoencoder.compile(loss='mape',optimizer=tf.keras.optimizers.Nadam(learning_rate=0.1, beta_1=0.9, beta_2=0.999))\n",
        "callback = tf.keras.callbacks.EarlyStopping(monitor='val_loss', patience=10)\n",
        "\n",
        "X_train = tfq.convert_to_tensor(train_circuits)\n",
        "X_test = tfq.convert_to_tensor(test_circuits)\n",
        "\n",
        "y_train = np.ones(shape=len(train_circuits))\n",
        "y_test = np.ones(shape=len(test_circuits))\n",
        "\n",
        "history = autoencoder.fit(X_train, y_train, epochs=100, batch_size=3, validation_data=(X_test, y_test), callbacks=[callback])\n",
        "\n",
        "plt.plot(history.history['loss'], label='Train')\n",
        "plt.plot(history.history['val_loss'], label='Test')\n",
        "plt.legend()\n",
        "plt.xlabel(\"Iteration\")\n",
        "plt.ylabel(\"Loss\")\n",
        "plt.show()\n",
        "plt.savefig(\"loss_comp\")"
      ]
    }
  ],
  "metadata": {
    "colab": {
      "collapsed_sections": [],
      "name": "three_qubit_qae_setup_2_nadam_optimizer.ipynb",
      "provenance": []
    },
    "kernelspec": {
      "display_name": "Python 3",
      "name": "python3"
    },
    "language_info": {
      "name": "python"
    }
  },
  "nbformat": 4,
  "nbformat_minor": 0
}