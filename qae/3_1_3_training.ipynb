{
 "cells": [
  {
   "cell_type": "code",
   "execution_count": 1,
   "outputs": [
    {
     "data": {
      "text/plain": "'/home/varunseshadri/.pyenv/versions/env-qae/bin/python\\n'"
     },
     "execution_count": 1,
     "metadata": {},
     "output_type": "execute_result"
    }
   ],
   "source": [
    "# cell to make sure the correct python version is running.\n",
    "import subprocess\n",
    "subprocess.check_output(\"pyenv which python\", shell = True).decode('utf-8')"
   ],
   "metadata": {
    "collapsed": false,
    "pycharm": {
     "name": "#%%\n"
    }
   }
  },
  {
   "cell_type": "code",
   "execution_count": 2,
   "outputs": [
    {
     "name": "stdout",
     "output_type": "stream",
     "text": [
      "The Zen of Python, by Tim Peters\n",
      "\n",
      "Beautiful is better than ugly.\n",
      "Explicit is better than implicit.\n",
      "Simple is better than complex.\n",
      "Complex is better than complicated.\n",
      "Flat is better than nested.\n",
      "Sparse is better than dense.\n",
      "Readability counts.\n",
      "Special cases aren't special enough to break the rules.\n",
      "Although practicality beats purity.\n",
      "Errors should never pass silently.\n",
      "Unless explicitly silenced.\n",
      "In the face of ambiguity, refuse the temptation to guess.\n",
      "There should be one-- and preferably only one --obvious way to do it.\n",
      "Although that way may not be obvious at first unless you're Dutch.\n",
      "Now is better than never.\n",
      "Although never is often better than *right* now.\n",
      "If the implementation is hard to explain, it's a bad idea.\n",
      "If the implementation is easy to explain, it may be a good idea.\n",
      "Namespaces are one honking great idea -- let's do more of those!\n"
     ]
    }
   ],
   "source": [
    "from qae.DQNN import randomNetwork, qnnTraining\n",
    "import matplotlib.pyplot as plt\n",
    "%matplotlib inline"
   ],
   "metadata": {
    "collapsed": false,
    "pycharm": {
     "name": "#%%\n"
    }
   }
  },
  {
   "cell_type": "code",
   "execution_count": 3,
   "outputs": [
    {
     "name": "stdout",
     "output_type": "stream",
     "text": [
      "Trained 500 rounds for a [3, 1, 3] network and 10 training pairs in 80.48 seconds\n"
     ]
    },
    {
     "data": {
      "text/plain": "<Figure size 432x288 with 1 Axes>",
      "image/png": "[encoded data removed]"
     },
     "metadata": {
      "needs_background": "light"
     },
     "output_type": "display_data"
    }
   ],
   "source": [
    "network121 = randomNetwork([3,1,3],10) # generates 10 training samples of a 1-2-1 network\n",
    "plotlist121, unitaries121 = qnnTraining(qnnArch=network121[0], initialUnitaries=network121[1], trainingData=network121[2], lda = 1,ep = 0.1, trainingRounds=500)\n",
    "for i in range(len(plotlist121[1])):\n",
    "    if plotlist121[1][i] >= 0.95:\n",
    "        print(\"Threshold cost of 0.95 exceeded at training step\" + str(i))\n",
    "        break\n",
    "plt.plot(plotlist121[0], plotlist121[1])\n",
    "plt.xlabel(\"s\") # what does s represent ?\n",
    "plt.ylabel(\"Cost[s]\")\n",
    "plt.show()"
   ],
   "metadata": {
    "collapsed": false,
    "pycharm": {
     "name": "#%%\n"
    }
   }
  },
  {
   "cell_type": "code",
   "execution_count": 19,
   "outputs": [
    {
     "data": {
      "text/plain": "Quantum object: dims = [[2, 2, 2], [2, 2, 2]], shape = (8, 8), type = oper, isherm = False\nQobj data =\n[[ 0.45558484-0.40863487j  0.        +0.j         -0.0511396 +0.38091606j\n   0.        +0.j         -0.34855   -0.29497057j  0.        +0.j\n   0.21743111+0.47114399j  0.        +0.j        ]\n [ 0.        +0.j          0.45558484-0.40863487j  0.        +0.j\n  -0.0511396 +0.38091606j  0.        +0.j         -0.34855   -0.29497057j\n   0.        +0.j          0.21743111+0.47114399j]\n [ 0.15773099-0.07669015j  0.        +0.j          0.65250745+0.32086463j\n   0.        +0.j          0.65442382+0.00380217j  0.        +0.j\n  -0.04651008+0.10035585j  0.        +0.j        ]\n [ 0.        +0.j          0.15773099-0.07669015j  0.        +0.j\n   0.65250745+0.32086463j  0.        +0.j          0.65442382+0.00380217j\n   0.        +0.j         -0.04651008+0.10035585j]\n [-0.09807173+0.27377141j  0.        +0.j          0.3618527 -0.23102589j\n   0.        +0.j         -0.31329737+0.36130652j  0.        +0.j\n  -0.24414873+0.66544314j  0.        +0.j        ]\n [ 0.        +0.j         -0.09807173+0.27377141j  0.        +0.j\n   0.3618527 -0.23102589j  0.        +0.j         -0.31329737+0.36130652j\n   0.        +0.j         -0.24414873+0.66544314j]\n [ 0.29948193-0.64841443j  0.        +0.j         -0.10778713-0.3572663j\n   0.        +0.j          0.10923761+0.35012822j  0.        +0.j\n  -0.46067232-0.06221263j  0.        +0.j        ]\n [ 0.        +0.j          0.29948193-0.64841443j  0.        +0.j\n  -0.10778713-0.3572663j   0.        +0.j          0.10923761+0.35012822j\n   0.        +0.j         -0.46067232-0.06221263j]]",
      "text/latex": "Quantum object: dims = [[2, 2, 2], [2, 2, 2]], shape = (8, 8), type = oper, isherm = False\\begin{equation*}\\left(\\begin{array}{*{11}c}(0.456-0.409j) & 0.0 & (-0.051+0.381j) & 0.0 & (-0.349-0.295j) & 0.0 & (0.217+0.471j) & 0.0\\\\0.0 & (0.456-0.409j) & 0.0 & (-0.051+0.381j) & 0.0 & (-0.349-0.295j) & 0.0 & (0.217+0.471j)\\\\(0.158-0.077j) & 0.0 & (0.653+0.321j) & 0.0 & (0.654+0.004j) & 0.0 & (-0.047+0.100j) & 0.0\\\\0.0 & (0.158-0.077j) & 0.0 & (0.653+0.321j) & 0.0 & (0.654+0.004j) & 0.0 & (-0.047+0.100j)\\\\(-0.098+0.274j) & 0.0 & (0.362-0.231j) & 0.0 & (-0.313+0.361j) & 0.0 & (-0.244+0.665j) & 0.0\\\\0.0 & (-0.098+0.274j) & 0.0 & (0.362-0.231j) & 0.0 & (-0.313+0.361j) & 0.0 & (-0.244+0.665j)\\\\(0.299-0.648j) & 0.0 & (-0.108-0.357j) & 0.0 & (0.109+0.350j) & 0.0 & (-0.461-0.062j) & 0.0\\\\0.0 & (0.299-0.648j) & 0.0 & (-0.108-0.357j) & 0.0 & (0.109+0.350j) & 0.0 & (-0.461-0.062j)\\\\\\end{array}\\right)\\end{equation*}"
     },
     "execution_count": 19,
     "metadata": {},
     "output_type": "execute_result"
    }
   ],
   "source": [
    "unitaries121[1][0]"
   ],
   "metadata": {
    "collapsed": false,
    "pycharm": {
     "name": "#%%\n"
    }
   }
  },
  {
   "cell_type": "code",
   "execution_count": 20,
   "outputs": [
    {
     "data": {
      "text/plain": "[[Quantum object: dims = [[2], [1]], shape = (2, 1), type = ket\n  Qobj data =\n  [[0.44886816-0.62299346j]\n   [0.51352723+0.38299648j]],\n  Quantum object: dims = [[2], [1]], shape = (2, 1), type = ket\n  Qobj data =\n  [[0.55316069-0.50955555j]\n   [0.62992935-0.19379217j]]],\n [Quantum object: dims = [[2], [1]], shape = (2, 1), type = ket\n  Qobj data =\n  [[-0.26974339+0.71017092j]\n   [-0.6027328 +0.24414941j]],\n  Quantum object: dims = [[2], [1]], shape = (2, 1), type = ket\n  Qobj data =\n  [[-0.31352675+0.48012097j]\n   [-0.34521441+0.742975j  ]]],\n [Quantum object: dims = [[2], [1]], shape = (2, 1), type = ket\n  Qobj data =\n  [[0.57025345-0.63214083j]\n   [0.25847101+0.45651037j]],\n  Quantum object: dims = [[2], [1]], shape = (2, 1), type = ket\n  Qobj data =\n  [[0.74885556-0.44184272j]\n   [0.49227662-0.0406705j ]]],\n [Quantum object: dims = [[2], [1]], shape = (2, 1), type = ket\n  Qobj data =\n  [[-0.64223882+0.04813243j]\n   [ 0.27608667-0.71343445j]],\n  Quantum object: dims = [[2], [1]], shape = (2, 1), type = ket\n  Qobj data =\n  [[-0.75216295-0.07602849j]\n   [-0.29474642-0.58446139j]]],\n [Quantum object: dims = [[2], [1]], shape = (2, 1), type = ket\n  Qobj data =\n  [[-0.10349699-0.60792514j]\n   [-0.77504513+0.13791465j]],\n  Quantum object: dims = [[2], [1]], shape = (2, 1), type = ket\n  Qobj data =\n  [[ 0.46023393-0.45587863j]\n   [-0.70340542+0.29254097j]]],\n [Quantum object: dims = [[2], [1]], shape = (2, 1), type = ket\n  Qobj data =\n  [[0.16578136-0.7524548j ]\n   [0.34873289-0.53358569j]],\n  Quantum object: dims = [[2], [1]], shape = (2, 1), type = ket\n  Qobj data =\n  [[ 0.27936278-0.42832865j]\n   [-0.03379176-0.85869035j]]],\n [Quantum object: dims = [[2], [1]], shape = (2, 1), type = ket\n  Qobj data =\n  [[-0.10405069-0.43567871j]\n   [ 0.55696642+0.69938967j]],\n  Quantum object: dims = [[2], [1]], shape = (2, 1), type = ket\n  Qobj data =\n  [[0.05648089-0.71620575j]\n   [0.66739229+0.19607845j]]],\n [Quantum object: dims = [[2], [1]], shape = (2, 1), type = ket\n  Qobj data =\n  [[-0.47961895-0.75958761j]\n   [ 0.36984455+0.23708086j]],\n  Quantum object: dims = [[2], [1]], shape = (2, 1), type = ket\n  Qobj data =\n  [[-0.12053383-0.97483676j]\n   [ 0.13117349-0.13400897j]]],\n [Quantum object: dims = [[2], [1]], shape = (2, 1), type = ket\n  Qobj data =\n  [[-0.42731382-0.50549384j]\n   [-0.57859817+0.47655328j]],\n  Quantum object: dims = [[2], [1]], shape = (2, 1), type = ket\n  Qobj data =\n  [[ 0.14465003-0.65980142j]\n   [-0.47328318+0.56545689j]]],\n [Quantum object: dims = [[2], [1]], shape = (2, 1), type = ket\n  Qobj data =\n  [[ 0.86972581+0.46727841j]\n   [-0.14676363+0.06073161j]],\n  Quantum object: dims = [[2], [1]], shape = (2, 1), type = ket\n  Qobj data =\n  [[0.55184199+0.78357059j]\n   [0.26023148+0.11733343j]]]]"
     },
     "execution_count": 20,
     "metadata": {},
     "output_type": "execute_result"
    }
   ],
   "source": [
    "network121[2]"
   ],
   "metadata": {
    "collapsed": false,
    "pycharm": {
     "name": "#%%\n"
    }
   }
  },
  {
   "cell_type": "code",
   "execution_count": null,
   "outputs": [],
   "source": [
    "# training a 3-1-3 network w/o self inverse architecture."
   ],
   "metadata": {
    "collapsed": false,
    "pycharm": {
     "name": "#%%\n"
    }
   }
  },
  {
   "cell_type": "code",
   "execution_count": 21,
   "outputs": [],
   "source": [
    "import qutip as qt\n",
    "import numpy as np\n",
    "test_state = qt.Qobj(np.array([1., 0.]))"
   ],
   "metadata": {
    "collapsed": false,
    "pycharm": {
     "name": "#%%\n"
    }
   }
  },
  {
   "cell_type": "code",
   "execution_count": 23,
   "outputs": [
    {
     "data": {
      "text/plain": "array([[0.+0.j, 0.+0.j],\n       [1.+0.j, 0.+0.j]])"
     },
     "execution_count": 23,
     "metadata": {},
     "output_type": "execute_result"
    }
   ],
   "source": [
    "sigmaX = np.array([[0., 1.],[1.,0.]])\n",
    "sigmaX*qt.ket2dm(test_state)*sigmaX"
   ],
   "metadata": {
    "collapsed": false,
    "pycharm": {
     "name": "#%%\n"
    }
   }
  },
  {
   "cell_type": "code",
   "execution_count": 28,
   "outputs": [
    {
     "data": {
      "text/plain": "array([[0., 1.],\n       [1., 0.]])"
     },
     "execution_count": 28,
     "metadata": {},
     "output_type": "execute_result"
    }
   ],
   "source": [
    "sigmaX"
   ],
   "metadata": {
    "collapsed": false,
    "pycharm": {
     "name": "#%%\n"
    }
   }
  },
  {
   "cell_type": "code",
   "execution_count": 37,
   "outputs": [
    {
     "data": {
      "text/plain": "array([[1.+0.j, 0.+0.j],\n       [0.+0.j, 0.+0.j]])"
     },
     "execution_count": 37,
     "metadata": {},
     "output_type": "execute_result"
    }
   ],
   "source": [
    "np.array(qt.ket2dm(test_state))"
   ],
   "metadata": {
    "collapsed": false,
    "pycharm": {
     "name": "#%%\n"
    }
   }
  },
  {
   "cell_type": "code",
   "execution_count": 30,
   "outputs": [],
   "source": [
    "inter =sigmaX*qt.ket2dm(test_state)"
   ],
   "metadata": {
    "collapsed": false,
    "pycharm": {
     "name": "#%%\n"
    }
   }
  },
  {
   "cell_type": "code",
   "execution_count": 31,
   "outputs": [
    {
     "data": {
      "text/plain": "array([[0.+0.j, 0.+0.j],\n       [1.+0.j, 0.+0.j]])"
     },
     "execution_count": 31,
     "metadata": {},
     "output_type": "execute_result"
    }
   ],
   "source": [
    "inter * sigmaX"
   ],
   "metadata": {
    "collapsed": false,
    "pycharm": {
     "name": "#%%\n"
    }
   }
  },
  {
   "cell_type": "code",
   "execution_count": 32,
   "outputs": [
    {
     "data": {
      "text/plain": "array([[1., 0.],\n       [0., 0.]])"
     },
     "execution_count": 32,
     "metadata": {},
     "output_type": "execute_result"
    }
   ],
   "source": [
    "test = np.eye(2)\n",
    "test[1,1] = 0\n",
    "test"
   ],
   "metadata": {
    "collapsed": false,
    "pycharm": {
     "name": "#%%\n"
    }
   }
  },
  {
   "cell_type": "code",
   "execution_count": 33,
   "outputs": [
    {
     "data": {
      "text/plain": "array([[0., 0.],\n       [0., 0.]])"
     },
     "execution_count": 33,
     "metadata": {},
     "output_type": "execute_result"
    }
   ],
   "source": [
    "sigmaX * test * sigmaX"
   ],
   "metadata": {
    "collapsed": false,
    "pycharm": {
     "name": "#%%\n"
    }
   }
  },
  {
   "cell_type": "code",
   "execution_count": 36,
   "outputs": [
    {
     "data": {
      "text/plain": "array([[0., 0.],\n       [0., 1.]])"
     },
     "execution_count": 36,
     "metadata": {},
     "output_type": "execute_result"
    }
   ],
   "source": [
    "sigmaX @ test @ sigmaX"
   ],
   "metadata": {
    "collapsed": false,
    "pycharm": {
     "name": "#%%\n"
    }
   }
  },
  {
   "cell_type": "code",
   "execution_count": null,
   "outputs": [],
   "source": [],
   "metadata": {
    "collapsed": false,
    "pycharm": {
     "name": "#%%\n"
    }
   }
  }
 ],
 "metadata": {
  "kernelspec": {
   "display_name": "Python 3",
   "language": "python",
   "name": "python3"
  },
  "language_info": {
   "codemirror_mode": {
    "name": "ipython",
    "version": 2
   },
   "file_extension": ".py",
   "mimetype": "text/x-python",
   "name": "python",
   "nbconvert_exporter": "python",
   "pygments_lexer": "ipython2",
   "version": "2.7.6"
  }
 },
 "nbformat": 4,
 "nbformat_minor": 0
}