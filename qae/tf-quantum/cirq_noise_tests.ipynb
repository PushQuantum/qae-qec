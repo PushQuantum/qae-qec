{
 "cells": [
  {
   "cell_type": "code",
   "execution_count": 3,
   "outputs": [
    {
     "ename": "ModuleNotFoundError",
     "evalue": "No module named 'utils'",
     "output_type": "error",
     "traceback": [
      "\u001B[0;31m---------------------------------------------------------------------------\u001B[0m",
      "\u001B[0;31mModuleNotFoundError\u001B[0m                       Traceback (most recent call last)",
      "Input \u001B[0;32mIn [3]\u001B[0m, in \u001B[0;36m<cell line: 3>\u001B[0;34m()\u001B[0m\n\u001B[1;32m      1\u001B[0m \u001B[38;5;28;01mimport\u001B[39;00m \u001B[38;5;21;01msys\u001B[39;00m\n\u001B[1;32m      2\u001B[0m sys\u001B[38;5;241m.\u001B[39mpath\u001B[38;5;241m.\u001B[39mappend(\u001B[38;5;124m\"\u001B[39m\u001B[38;5;124m~/projects/qosf-mentorship-cohort-5/qae_qec/qae\u001B[39m\u001B[38;5;124m\"\u001B[39m)\n\u001B[0;32m----> 3\u001B[0m \u001B[38;5;28;01mfrom\u001B[39;00m \u001B[38;5;21;01mqae\u001B[39;00m\u001B[38;5;21;01m.\u001B[39;00m\u001B[38;5;21;01mnoise\u001B[39;00m \u001B[38;5;28;01mimport\u001B[39;00m \u001B[38;5;241m*\u001B[39m\n\u001B[1;32m      4\u001B[0m \u001B[38;5;28;01mimport\u001B[39;00m \u001B[38;5;21;01mnumpy\u001B[39;00m \u001B[38;5;28;01mas\u001B[39;00m \u001B[38;5;21;01mnp\u001B[39;00m\n",
      "File \u001B[0;32m~/projects/qosf-mentorship-cohort-5/qae_qec/qae/noise.py:9\u001B[0m, in \u001B[0;36m<module>\u001B[0;34m\u001B[0m\n\u001B[1;32m      6\u001B[0m \u001B[38;5;28;01mfrom\u001B[39;00m \u001B[38;5;21;01mdataclasses\u001B[39;00m \u001B[38;5;28;01mimport\u001B[39;00m  dataclass, field, asdict\n\u001B[1;32m      8\u001B[0m \u001B[38;5;28;01mimport\u001B[39;00m \u001B[38;5;21;01mpandas\u001B[39;00m \u001B[38;5;28;01mas\u001B[39;00m \u001B[38;5;21;01mpd\u001B[39;00m\n\u001B[0;32m----> 9\u001B[0m \u001B[38;5;28;01mfrom\u001B[39;00m \u001B[38;5;21;01mutils\u001B[39;00m \u001B[38;5;28;01mimport\u001B[39;00m pure_logical_plus, pure_logical_one, pure_logical_zero\n\u001B[1;32m     11\u001B[0m INIT_SEED \u001B[38;5;241m=\u001B[39m \u001B[38;5;241m123124\u001B[39m\n\u001B[1;32m     12\u001B[0m default_rng \u001B[38;5;241m=\u001B[39m np\u001B[38;5;241m.\u001B[39mrandom\u001B[38;5;241m.\u001B[39mdefault_rng(seed\u001B[38;5;241m=\u001B[39m INIT_SEED)\n",
      "\u001B[0;31mModuleNotFoundError\u001B[0m: No module named 'utils'"
     ]
    }
   ],
   "source": [
    "import sys\n",
    "sys.path.append(\"~/projects/qosf-mentorship-cohort-5/qae_qec/qae\")\n",
    "from qae.noise import *\n",
    "import numpy as np"
   ],
   "metadata": {
    "collapsed": false,
    "pycharm": {
     "name": "#%%\n"
    }
   }
  },
  {
   "cell_type": "code",
   "execution_count": 6,
   "outputs": [
    {
     "data": {
      "text/plain": "['C:\\\\Users\\\\varun\\\\AppData\\\\Local\\\\JetBrains\\\\Toolbox\\\\apps\\\\PyCharm-P\\\\ch-0\\\\221.5787.24\\\\plugins\\\\python\\\\helpers-pro\\\\jupyter_debug',\n 'C:\\\\Users\\\\varun\\\\AppData\\\\Local\\\\JetBrains\\\\Toolbox\\\\apps\\\\PyCharm-P\\\\ch-0\\\\221.5787.24\\\\plugins\\\\python\\\\helpers\\\\pydev',\n '/home/varunseshadri/projects/qosf-mentorship-cohort-5/qae_qec',\n '/home/varunseshadri/projects/qosf-mentorship-cohort-5/qae_qec',\n '/home/varunseshadri/projects/qosf-mentorship-cohort-5',\n '/home/varunseshadri/.pyenv/versions/3.10.0/lib/python310.zip',\n '/home/varunseshadri/.pyenv/versions/3.10.0/lib/python3.10',\n '/home/varunseshadri/.pyenv/versions/3.10.0/lib/python3.10/lib-dynload',\n '',\n '/home/varunseshadri/.pyenv/versions/3.10.0/envs/env-qae/lib/python3.10/site-packages']"
     },
     "execution_count": 6,
     "metadata": {},
     "output_type": "execute_result"
    }
   ],
   "source": [
    "sys.path"
   ],
   "metadata": {
    "collapsed": false,
    "pycharm": {
     "name": "#%%\n"
    }
   }
  },
  {
   "cell_type": "code",
   "execution_count": 1,
   "outputs": [
    {
     "ename": "NameError",
     "evalue": "name 'np' is not defined",
     "output_type": "error",
     "traceback": [
      "\u001B[0;31m---------------------------------------------------------------------------\u001B[0m",
      "\u001B[0;31mNameError\u001B[0m                                 Traceback (most recent call last)",
      "Input \u001B[0;32mIn [1]\u001B[0m, in \u001B[0;36m<cell line: 1>\u001B[0;34m()\u001B[0m\n\u001B[0;32m----> 1\u001B[0m bit_flips \u001B[38;5;241m=\u001B[39m [Noise(noise_type\u001B[38;5;241m=\u001B[39m\u001B[38;5;124m\"\u001B[39m\u001B[38;5;124mbit-flip\u001B[39m\u001B[38;5;124m\"\u001B[39m,error_probability\u001B[38;5;241m=\u001B[39m\u001B[38;5;241m0.1\u001B[39m) \u001B[38;5;28;01mfor\u001B[39;00m p \u001B[38;5;129;01min\u001B[39;00m \u001B[43mnp\u001B[49m\u001B[38;5;241m.\u001B[39mlinspace(\u001B[38;5;241m0\u001B[39m,\u001B[38;5;241m1\u001B[39m,\u001B[38;5;241m5\u001B[39m)]\n\u001B[1;32m      2\u001B[0m \u001B[38;5;28;01mfor\u001B[39;00m bf \u001B[38;5;129;01min\u001B[39;00m bit_flips:\n\u001B[1;32m      3\u001B[0m     bf\u001B[38;5;241m.\u001B[39mprepare_noised_dataset(logical_states\u001B[38;5;241m=\u001B[39m[\u001B[38;5;124m\"\u001B[39m\u001B[38;5;124m0_L\u001B[39m\u001B[38;5;124m\"\u001B[39m],num_qubits\u001B[38;5;241m=\u001B[39m\u001B[38;5;241m3\u001B[39m)\n",
      "\u001B[0;31mNameError\u001B[0m: name 'np' is not defined"
     ]
    }
   ],
   "source": [
    "bit_flips = [Noise(noise_type=\"bit-flip\",error_probability=0.1) for p in np.linspace(0,1,5)]\n",
    "for bf in bit_flips:\n",
    "    bf.prepare_noised_dataset(logical_states=[\"0_L\"],num_qubits=3)\n",
    "mixed_states = [bf.dataset for bf in bit_flips]"
   ],
   "metadata": {
    "collapsed": false,
    "pycharm": {
     "name": "#%%\n"
    }
   }
  },
  {
   "cell_type": "code",
   "execution_count": 3,
   "outputs": [
    {
     "name": "stdout",
     "output_type": "stream",
     "text": [
      "<class 'dict'> <class 'qae.noise.Noise'>\n",
      "<class 'dict'> <class 'qae.noise.Noise'>\n",
      "<class 'dict'> <class 'qae.noise.Noise'>\n",
      "<class 'dict'> <class 'qae.noise.Noise'>\n",
      "<class 'dict'> <class 'qae.noise.Noise'>\n"
     ]
    },
    {
     "data": {
      "text/plain": "[None, None, None, None, None]"
     },
     "execution_count": 3,
     "metadata": {},
     "output_type": "execute_result"
    }
   ],
   "source": [
    "[print(type(state), type(bf)) for state, bf in zip(mixed_states, bit_flips)]"
   ],
   "metadata": {
    "collapsed": false,
    "pycharm": {
     "name": "#%%\n"
    }
   }
  },
  {
   "cell_type": "code",
   "execution_count": 4,
   "outputs": [
    {
     "data": {
      "text/plain": "{'noise_type': 'bit-flip',\n 'error_probability': 0.1,\n '_dataset': {'0_L': [array([[0.62+0.j, 0.  +0.j, 0.  +0.j, 0.  +0.j, 0.  +0.j, 0.  +0.j,\n           0.  +0.j, 0.  +0.j],\n          [0.  +0.j, 0.02+0.j, 0.  +0.j, 0.  +0.j, 0.  +0.j, 0.  +0.j,\n           0.  +0.j, 0.  +0.j],\n          [0.  +0.j, 0.  +0.j, 0.16+0.j, 0.  +0.j, 0.  +0.j, 0.  +0.j,\n           0.  +0.j, 0.  +0.j],\n          [0.  +0.j, 0.  +0.j, 0.  +0.j, 0.06+0.j, 0.  +0.j, 0.  +0.j,\n           0.  +0.j, 0.  +0.j],\n          [0.  +0.j, 0.  +0.j, 0.  +0.j, 0.  +0.j, 0.12+0.j, 0.  +0.j,\n           0.  +0.j, 0.  +0.j],\n          [0.  +0.j, 0.  +0.j, 0.  +0.j, 0.  +0.j, 0.  +0.j, 0.  +0.j,\n           0.  +0.j, 0.  +0.j],\n          [0.  +0.j, 0.  +0.j, 0.  +0.j, 0.  +0.j, 0.  +0.j, 0.  +0.j,\n           0.02+0.j, 0.  +0.j],\n          [0.  +0.j, 0.  +0.j, 0.  +0.j, 0.  +0.j, 0.  +0.j, 0.  +0.j,\n           0.  +0.j, 0.  +0.j]], dtype=complex64)]},\n 'num_qubits': 3}"
     },
     "execution_count": 4,
     "metadata": {},
     "output_type": "execute_result"
    }
   ],
   "source": [
    "from dataclasses import asdict\n",
    "asdict(bit_flips[0])"
   ],
   "metadata": {
    "collapsed": false,
    "pycharm": {
     "name": "#%%\n"
    }
   }
  },
  {
   "cell_type": "code",
   "execution_count": 5,
   "outputs": [],
   "source": [
    "from dacite import from_dict\n",
    "test_from_dict = from_dict(Noise, asdict(bit_flips[0]))"
   ],
   "metadata": {
    "collapsed": false,
    "pycharm": {
     "name": "#%%\n"
    }
   }
  },
  {
   "cell_type": "code",
   "execution_count": 8,
   "outputs": [
    {
     "data": {
      "text/plain": "(8, 8)"
     },
     "execution_count": 8,
     "metadata": {},
     "output_type": "execute_result"
    }
   ],
   "source": [
    "np.shape(test_from_dict.dataset['0_L'][0])"
   ],
   "metadata": {
    "collapsed": false,
    "pycharm": {
     "name": "#%%\n"
    }
   }
  },
  {
   "cell_type": "code",
   "execution_count": 11,
   "outputs": [
    {
     "ename": "TypeError",
     "evalue": "Object of type complex is not JSON serializable",
     "output_type": "error",
     "traceback": [
      "\u001B[0;31m---------------------------------------------------------------------------\u001B[0m",
      "\u001B[0;31mTypeError\u001B[0m                                 Traceback (most recent call last)",
      "Input \u001B[0;32mIn [11]\u001B[0m, in \u001B[0;36m<cell line: 14>\u001B[0;34m()\u001B[0m\n\u001B[1;32m     12\u001B[0m         \u001B[38;5;28;01mreturn\u001B[39;00m json\u001B[38;5;241m.\u001B[39mJSONEncoder\u001B[38;5;241m.\u001B[39mdefault(\u001B[38;5;28mself\u001B[39m, obj)\n\u001B[1;32m     14\u001B[0m \u001B[38;5;28;01mwith\u001B[39;00m \u001B[38;5;28mopen\u001B[39m(\u001B[38;5;124m\"\u001B[39m\u001B[38;5;124mtest.json\u001B[39m\u001B[38;5;124m\"\u001B[39m, \u001B[38;5;124m\"\u001B[39m\u001B[38;5;124mw+\u001B[39m\u001B[38;5;124m\"\u001B[39m) \u001B[38;5;28;01mas\u001B[39;00m file:\n\u001B[0;32m---> 15\u001B[0m     \u001B[43mjson\u001B[49m\u001B[38;5;241;43m.\u001B[39;49m\u001B[43mdump\u001B[49m\u001B[43m(\u001B[49m\u001B[43m[\u001B[49m\u001B[43mbf\u001B[49m\u001B[38;5;241;43m.\u001B[39;49m\u001B[38;5;18;43m__dict__\u001B[39;49m\u001B[43m \u001B[49m\u001B[38;5;28;43;01mfor\u001B[39;49;00m\u001B[43m \u001B[49m\u001B[43mbf\u001B[49m\u001B[43m \u001B[49m\u001B[38;5;129;43;01min\u001B[39;49;00m\u001B[43m \u001B[49m\u001B[43mbit_flips\u001B[49m\u001B[43m]\u001B[49m\u001B[43m,\u001B[49m\u001B[43mfile\u001B[49m\u001B[43m,\u001B[49m\u001B[43m \u001B[49m\u001B[38;5;28;43mcls\u001B[39;49m\u001B[38;5;241;43m=\u001B[39;49m\u001B[43mNumpyEncoder\u001B[49m\u001B[43m)\u001B[49m\n",
      "File \u001B[0;32m~/.pyenv/versions/3.10.0/lib/python3.10/json/__init__.py:179\u001B[0m, in \u001B[0;36mdump\u001B[0;34m(obj, fp, skipkeys, ensure_ascii, check_circular, allow_nan, cls, indent, separators, default, sort_keys, **kw)\u001B[0m\n\u001B[1;32m    173\u001B[0m     iterable \u001B[38;5;241m=\u001B[39m \u001B[38;5;28mcls\u001B[39m(skipkeys\u001B[38;5;241m=\u001B[39mskipkeys, ensure_ascii\u001B[38;5;241m=\u001B[39mensure_ascii,\n\u001B[1;32m    174\u001B[0m         check_circular\u001B[38;5;241m=\u001B[39mcheck_circular, allow_nan\u001B[38;5;241m=\u001B[39mallow_nan, indent\u001B[38;5;241m=\u001B[39mindent,\n\u001B[1;32m    175\u001B[0m         separators\u001B[38;5;241m=\u001B[39mseparators,\n\u001B[1;32m    176\u001B[0m         default\u001B[38;5;241m=\u001B[39mdefault, sort_keys\u001B[38;5;241m=\u001B[39msort_keys, \u001B[38;5;241m*\u001B[39m\u001B[38;5;241m*\u001B[39mkw)\u001B[38;5;241m.\u001B[39miterencode(obj)\n\u001B[1;32m    177\u001B[0m \u001B[38;5;66;03m# could accelerate with writelines in some versions of Python, at\u001B[39;00m\n\u001B[1;32m    178\u001B[0m \u001B[38;5;66;03m# a debuggability cost\u001B[39;00m\n\u001B[0;32m--> 179\u001B[0m \u001B[38;5;28;01mfor\u001B[39;00m chunk \u001B[38;5;129;01min\u001B[39;00m iterable:\n\u001B[1;32m    180\u001B[0m     fp\u001B[38;5;241m.\u001B[39mwrite(chunk)\n",
      "File \u001B[0;32m~/.pyenv/versions/3.10.0/lib/python3.10/json/encoder.py:429\u001B[0m, in \u001B[0;36m_make_iterencode.<locals>._iterencode\u001B[0;34m(o, _current_indent_level)\u001B[0m\n\u001B[1;32m    427\u001B[0m     \u001B[38;5;28;01myield\u001B[39;00m _floatstr(o)\n\u001B[1;32m    428\u001B[0m \u001B[38;5;28;01melif\u001B[39;00m \u001B[38;5;28misinstance\u001B[39m(o, (\u001B[38;5;28mlist\u001B[39m, \u001B[38;5;28mtuple\u001B[39m)):\n\u001B[0;32m--> 429\u001B[0m     \u001B[38;5;28;01myield from\u001B[39;00m _iterencode_list(o, _current_indent_level)\n\u001B[1;32m    430\u001B[0m \u001B[38;5;28;01melif\u001B[39;00m \u001B[38;5;28misinstance\u001B[39m(o, \u001B[38;5;28mdict\u001B[39m):\n\u001B[1;32m    431\u001B[0m     \u001B[38;5;28;01myield from\u001B[39;00m _iterencode_dict(o, _current_indent_level)\n",
      "File \u001B[0;32m~/.pyenv/versions/3.10.0/lib/python3.10/json/encoder.py:325\u001B[0m, in \u001B[0;36m_make_iterencode.<locals>._iterencode_list\u001B[0;34m(lst, _current_indent_level)\u001B[0m\n\u001B[1;32m    323\u001B[0m         \u001B[38;5;28;01melse\u001B[39;00m:\n\u001B[1;32m    324\u001B[0m             chunks \u001B[38;5;241m=\u001B[39m _iterencode(value, _current_indent_level)\n\u001B[0;32m--> 325\u001B[0m         \u001B[38;5;28;01myield from\u001B[39;00m chunks\n\u001B[1;32m    326\u001B[0m \u001B[38;5;28;01mif\u001B[39;00m newline_indent \u001B[38;5;129;01mis\u001B[39;00m \u001B[38;5;129;01mnot\u001B[39;00m \u001B[38;5;28;01mNone\u001B[39;00m:\n\u001B[1;32m    327\u001B[0m     _current_indent_level \u001B[38;5;241m-\u001B[39m\u001B[38;5;241m=\u001B[39m \u001B[38;5;241m1\u001B[39m\n",
      "File \u001B[0;32m~/.pyenv/versions/3.10.0/lib/python3.10/json/encoder.py:405\u001B[0m, in \u001B[0;36m_make_iterencode.<locals>._iterencode_dict\u001B[0;34m(dct, _current_indent_level)\u001B[0m\n\u001B[1;32m    403\u001B[0m         \u001B[38;5;28;01melse\u001B[39;00m:\n\u001B[1;32m    404\u001B[0m             chunks \u001B[38;5;241m=\u001B[39m _iterencode(value, _current_indent_level)\n\u001B[0;32m--> 405\u001B[0m         \u001B[38;5;28;01myield from\u001B[39;00m chunks\n\u001B[1;32m    406\u001B[0m \u001B[38;5;28;01mif\u001B[39;00m newline_indent \u001B[38;5;129;01mis\u001B[39;00m \u001B[38;5;129;01mnot\u001B[39;00m \u001B[38;5;28;01mNone\u001B[39;00m:\n\u001B[1;32m    407\u001B[0m     _current_indent_level \u001B[38;5;241m-\u001B[39m\u001B[38;5;241m=\u001B[39m \u001B[38;5;241m1\u001B[39m\n",
      "File \u001B[0;32m~/.pyenv/versions/3.10.0/lib/python3.10/json/encoder.py:405\u001B[0m, in \u001B[0;36m_make_iterencode.<locals>._iterencode_dict\u001B[0;34m(dct, _current_indent_level)\u001B[0m\n\u001B[1;32m    403\u001B[0m         \u001B[38;5;28;01melse\u001B[39;00m:\n\u001B[1;32m    404\u001B[0m             chunks \u001B[38;5;241m=\u001B[39m _iterencode(value, _current_indent_level)\n\u001B[0;32m--> 405\u001B[0m         \u001B[38;5;28;01myield from\u001B[39;00m chunks\n\u001B[1;32m    406\u001B[0m \u001B[38;5;28;01mif\u001B[39;00m newline_indent \u001B[38;5;129;01mis\u001B[39;00m \u001B[38;5;129;01mnot\u001B[39;00m \u001B[38;5;28;01mNone\u001B[39;00m:\n\u001B[1;32m    407\u001B[0m     _current_indent_level \u001B[38;5;241m-\u001B[39m\u001B[38;5;241m=\u001B[39m \u001B[38;5;241m1\u001B[39m\n",
      "File \u001B[0;32m~/.pyenv/versions/3.10.0/lib/python3.10/json/encoder.py:439\u001B[0m, in \u001B[0;36m_make_iterencode.<locals>._iterencode\u001B[0;34m(o, _current_indent_level)\u001B[0m\n\u001B[1;32m    437\u001B[0m     markers[markerid] \u001B[38;5;241m=\u001B[39m o\n\u001B[1;32m    438\u001B[0m o \u001B[38;5;241m=\u001B[39m _default(o)\n\u001B[0;32m--> 439\u001B[0m \u001B[38;5;28;01myield from\u001B[39;00m _iterencode(o, _current_indent_level)\n\u001B[1;32m    440\u001B[0m \u001B[38;5;28;01mif\u001B[39;00m markers \u001B[38;5;129;01mis\u001B[39;00m \u001B[38;5;129;01mnot\u001B[39;00m \u001B[38;5;28;01mNone\u001B[39;00m:\n\u001B[1;32m    441\u001B[0m     \u001B[38;5;28;01mdel\u001B[39;00m markers[markerid]\n",
      "File \u001B[0;32m~/.pyenv/versions/3.10.0/lib/python3.10/json/encoder.py:429\u001B[0m, in \u001B[0;36m_make_iterencode.<locals>._iterencode\u001B[0;34m(o, _current_indent_level)\u001B[0m\n\u001B[1;32m    427\u001B[0m     \u001B[38;5;28;01myield\u001B[39;00m _floatstr(o)\n\u001B[1;32m    428\u001B[0m \u001B[38;5;28;01melif\u001B[39;00m \u001B[38;5;28misinstance\u001B[39m(o, (\u001B[38;5;28mlist\u001B[39m, \u001B[38;5;28mtuple\u001B[39m)):\n\u001B[0;32m--> 429\u001B[0m     \u001B[38;5;28;01myield from\u001B[39;00m _iterencode_list(o, _current_indent_level)\n\u001B[1;32m    430\u001B[0m \u001B[38;5;28;01melif\u001B[39;00m \u001B[38;5;28misinstance\u001B[39m(o, \u001B[38;5;28mdict\u001B[39m):\n\u001B[1;32m    431\u001B[0m     \u001B[38;5;28;01myield from\u001B[39;00m _iterencode_dict(o, _current_indent_level)\n",
      "File \u001B[0;32m~/.pyenv/versions/3.10.0/lib/python3.10/json/encoder.py:325\u001B[0m, in \u001B[0;36m_make_iterencode.<locals>._iterencode_list\u001B[0;34m(lst, _current_indent_level)\u001B[0m\n\u001B[1;32m    323\u001B[0m         \u001B[38;5;28;01melse\u001B[39;00m:\n\u001B[1;32m    324\u001B[0m             chunks \u001B[38;5;241m=\u001B[39m _iterencode(value, _current_indent_level)\n\u001B[0;32m--> 325\u001B[0m         \u001B[38;5;28;01myield from\u001B[39;00m chunks\n\u001B[1;32m    326\u001B[0m \u001B[38;5;28;01mif\u001B[39;00m newline_indent \u001B[38;5;129;01mis\u001B[39;00m \u001B[38;5;129;01mnot\u001B[39;00m \u001B[38;5;28;01mNone\u001B[39;00m:\n\u001B[1;32m    327\u001B[0m     _current_indent_level \u001B[38;5;241m-\u001B[39m\u001B[38;5;241m=\u001B[39m \u001B[38;5;241m1\u001B[39m\n",
      "File \u001B[0;32m~/.pyenv/versions/3.10.0/lib/python3.10/json/encoder.py:325\u001B[0m, in \u001B[0;36m_make_iterencode.<locals>._iterencode_list\u001B[0;34m(lst, _current_indent_level)\u001B[0m\n\u001B[1;32m    323\u001B[0m         \u001B[38;5;28;01melse\u001B[39;00m:\n\u001B[1;32m    324\u001B[0m             chunks \u001B[38;5;241m=\u001B[39m _iterencode(value, _current_indent_level)\n\u001B[0;32m--> 325\u001B[0m         \u001B[38;5;28;01myield from\u001B[39;00m chunks\n\u001B[1;32m    326\u001B[0m \u001B[38;5;28;01mif\u001B[39;00m newline_indent \u001B[38;5;129;01mis\u001B[39;00m \u001B[38;5;129;01mnot\u001B[39;00m \u001B[38;5;28;01mNone\u001B[39;00m:\n\u001B[1;32m    327\u001B[0m     _current_indent_level \u001B[38;5;241m-\u001B[39m\u001B[38;5;241m=\u001B[39m \u001B[38;5;241m1\u001B[39m\n",
      "File \u001B[0;32m~/.pyenv/versions/3.10.0/lib/python3.10/json/encoder.py:438\u001B[0m, in \u001B[0;36m_make_iterencode.<locals>._iterencode\u001B[0;34m(o, _current_indent_level)\u001B[0m\n\u001B[1;32m    436\u001B[0m         \u001B[38;5;28;01mraise\u001B[39;00m \u001B[38;5;167;01mValueError\u001B[39;00m(\u001B[38;5;124m\"\u001B[39m\u001B[38;5;124mCircular reference detected\u001B[39m\u001B[38;5;124m\"\u001B[39m)\n\u001B[1;32m    437\u001B[0m     markers[markerid] \u001B[38;5;241m=\u001B[39m o\n\u001B[0;32m--> 438\u001B[0m o \u001B[38;5;241m=\u001B[39m \u001B[43m_default\u001B[49m\u001B[43m(\u001B[49m\u001B[43mo\u001B[49m\u001B[43m)\u001B[49m\n\u001B[1;32m    439\u001B[0m \u001B[38;5;28;01myield from\u001B[39;00m _iterencode(o, _current_indent_level)\n\u001B[1;32m    440\u001B[0m \u001B[38;5;28;01mif\u001B[39;00m markers \u001B[38;5;129;01mis\u001B[39;00m \u001B[38;5;129;01mnot\u001B[39;00m \u001B[38;5;28;01mNone\u001B[39;00m:\n",
      "Input \u001B[0;32mIn [11]\u001B[0m, in \u001B[0;36mNumpyEncoder.default\u001B[0;34m(self, obj)\u001B[0m\n\u001B[1;32m     10\u001B[0m \u001B[38;5;28;01melif\u001B[39;00m \u001B[38;5;28misinstance\u001B[39m(obj, np\u001B[38;5;241m.\u001B[39mndarray):\n\u001B[1;32m     11\u001B[0m     \u001B[38;5;28;01mreturn\u001B[39;00m obj\u001B[38;5;241m.\u001B[39mtolist()\n\u001B[0;32m---> 12\u001B[0m \u001B[38;5;28;01mreturn\u001B[39;00m \u001B[43mjson\u001B[49m\u001B[38;5;241;43m.\u001B[39;49m\u001B[43mJSONEncoder\u001B[49m\u001B[38;5;241;43m.\u001B[39;49m\u001B[43mdefault\u001B[49m\u001B[43m(\u001B[49m\u001B[38;5;28;43mself\u001B[39;49m\u001B[43m,\u001B[49m\u001B[43m \u001B[49m\u001B[43mobj\u001B[49m\u001B[43m)\u001B[49m\n",
      "File \u001B[0;32m~/.pyenv/versions/3.10.0/lib/python3.10/json/encoder.py:179\u001B[0m, in \u001B[0;36mJSONEncoder.default\u001B[0;34m(self, o)\u001B[0m\n\u001B[1;32m    160\u001B[0m \u001B[38;5;28;01mdef\u001B[39;00m \u001B[38;5;21mdefault\u001B[39m(\u001B[38;5;28mself\u001B[39m, o):\n\u001B[1;32m    161\u001B[0m     \u001B[38;5;124;03m\"\"\"Implement this method in a subclass such that it returns\u001B[39;00m\n\u001B[1;32m    162\u001B[0m \u001B[38;5;124;03m    a serializable object for ``o``, or calls the base implementation\u001B[39;00m\n\u001B[1;32m    163\u001B[0m \u001B[38;5;124;03m    (to raise a ``TypeError``).\u001B[39;00m\n\u001B[0;32m   (...)\u001B[0m\n\u001B[1;32m    177\u001B[0m \n\u001B[1;32m    178\u001B[0m \u001B[38;5;124;03m    \"\"\"\u001B[39;00m\n\u001B[0;32m--> 179\u001B[0m     \u001B[38;5;28;01mraise\u001B[39;00m \u001B[38;5;167;01mTypeError\u001B[39;00m(\u001B[38;5;124mf\u001B[39m\u001B[38;5;124m'\u001B[39m\u001B[38;5;124mObject of type \u001B[39m\u001B[38;5;132;01m{\u001B[39;00mo\u001B[38;5;241m.\u001B[39m\u001B[38;5;18m__class__\u001B[39m\u001B[38;5;241m.\u001B[39m\u001B[38;5;18m__name__\u001B[39m\u001B[38;5;132;01m}\u001B[39;00m\u001B[38;5;124m \u001B[39m\u001B[38;5;124m'\u001B[39m\n\u001B[1;32m    180\u001B[0m                     \u001B[38;5;124mf\u001B[39m\u001B[38;5;124m'\u001B[39m\u001B[38;5;124mis not JSON serializable\u001B[39m\u001B[38;5;124m'\u001B[39m)\n",
      "\u001B[0;31mTypeError\u001B[0m: Object of type complex is not JSON serializable"
     ]
    }
   ],
   "source": [
    "import json\n",
    "\n",
    "class NumpyEncoder(json.JSONEncoder):\n",
    "    \"\"\" Special json encoder for numpy types \"\"\"\n",
    "    def default(self, obj):\n",
    "        if isinstance(obj, np.integer):\n",
    "            return int(obj)\n",
    "        elif isinstance(obj, np.floating):\n",
    "            return float(obj)\n",
    "        elif isinstance(obj, np.ndarray):\n",
    "            return obj.tolist()\n",
    "        return json.JSONEncoder.default(self, obj)\n",
    "\n",
    "with open(\"test.json\", \"w+\") as file:\n",
    "    json.dump([bf.__dict__ for bf in bit_flips],file, cls=NumpyEncoder)"
   ],
   "metadata": {
    "collapsed": false,
    "pycharm": {
     "name": "#%%\n"
    }
   }
  },
  {
   "cell_type": "code",
   "execution_count": 9,
   "outputs": [],
   "source": [
    "import pandas as pd\n",
    "df = pd.DataFrame(bit_flips)"
   ],
   "metadata": {
    "collapsed": false,
    "pycharm": {
     "name": "#%%\n"
    }
   }
  },
  {
   "cell_type": "code",
   "execution_count": 13,
   "outputs": [],
   "source": [
    "for bf in bit_flips:\n",
    "    bf.dataset['0_L'][0] = pd.array(bf.dataset['0_L'][0])"
   ],
   "metadata": {
    "collapsed": false,
    "pycharm": {
     "name": "#%%\n"
    }
   }
  },
  {
   "cell_type": "code",
   "execution_count": 17,
   "outputs": [
    {
     "data": {
      "text/plain": "[Noise(noise_type='bit-flip', error_probability=0.1, _dataset={'0_L': [<PandasArray>\n [\n [(0.62+0j), 0j, 0j, 0j, 0j, 0j, 0j, 0j],\n [0j, (0.02+0j), 0j, 0j, 0j, 0j, 0j, 0j],\n [0j, 0j, (0.16+0j), 0j, 0j, 0j, 0j, 0j],\n [0j, 0j, 0j, (0.06+0j), 0j, 0j, 0j, 0j],\n [0j, 0j, 0j, 0j, (0.12+0j), 0j, 0j, 0j],\n [0j, 0j, 0j, 0j, 0j, 0j, 0j, 0j],\n [0j, 0j, 0j, 0j, 0j, 0j, (0.02+0j), 0j],\n [0j, 0j, 0j, 0j, 0j, 0j, 0j, 0j]\n ]\n Shape: (8, 8), dtype: complex64]}, num_qubits=3),\n Noise(noise_type='bit-flip', error_probability=0.1, _dataset={'0_L': [<PandasArray>\n [\n [(0.74+0j), 0j, 0j, 0j, 0j, 0j, 0j, 0j],\n [0j, (0.06+0j), 0j, 0j, 0j, 0j, 0j, 0j],\n [0j, 0j, (0.1+0j), 0j, 0j, 0j, 0j, 0j],\n [0j, 0j, 0j, 0j, 0j, 0j, 0j, 0j],\n [0j, 0j, 0j, 0j, (0.1+0j), 0j, 0j, 0j],\n [0j, 0j, 0j, 0j, 0j, 0j, 0j, 0j],\n [0j, 0j, 0j, 0j, 0j, 0j, 0j, 0j],\n [0j, 0j, 0j, 0j, 0j, 0j, 0j, 0j]\n ]\n Shape: (8, 8), dtype: complex64]}, num_qubits=3),\n Noise(noise_type='bit-flip', error_probability=0.1, _dataset={'0_L': [<PandasArray>\n [\n [(0.74+0j), 0j, 0j, 0j, 0j, 0j, 0j, 0j],\n [0j, (0.1+0j), 0j, 0j, 0j, 0j, 0j, 0j],\n [0j, 0j, (0.12+0j), 0j, 0j, 0j, 0j, 0j],\n [0j, 0j, 0j, (0.02+0j), 0j, 0j, 0j, 0j],\n [0j, 0j, 0j, 0j, (0.02+0j), 0j, 0j, 0j],\n [0j, 0j, 0j, 0j, 0j, 0j, 0j, 0j],\n [0j, 0j, 0j, 0j, 0j, 0j, 0j, 0j],\n [0j, 0j, 0j, 0j, 0j, 0j, 0j, 0j]\n ]\n Shape: (8, 8), dtype: complex64]}, num_qubits=3),\n Noise(noise_type='bit-flip', error_probability=0.1, _dataset={'0_L': [<PandasArray>\n [\n [(0.78+0j), 0j, 0j, 0j, 0j, 0j, 0j, 0j],\n [0j, (0.04+0j), 0j, 0j, 0j, 0j, 0j, 0j],\n [0j, 0j, (0.08+0j), 0j, 0j, 0j, 0j, 0j],\n [0j, 0j, 0j, (0.04+0j), 0j, 0j, 0j, 0j],\n [0j, 0j, 0j, 0j, (0.04+0j), 0j, 0j, 0j],\n [0j, 0j, 0j, 0j, 0j, 0j, 0j, 0j],\n [0j, 0j, 0j, 0j, 0j, 0j, (0.02+0j), 0j],\n [0j, 0j, 0j, 0j, 0j, 0j, 0j, 0j]\n ]\n Shape: (8, 8), dtype: complex64]}, num_qubits=3),\n Noise(noise_type='bit-flip', error_probability=0.1, _dataset={'0_L': [<PandasArray>\n [\n [(0.78+0j), 0j, 0j, 0j, 0j, 0j, 0j, 0j],\n [0j, (0.02+0j), 0j, 0j, 0j, 0j, 0j, 0j],\n [0j, 0j, (0.08+0j), 0j, 0j, 0j, 0j, 0j],\n [0j, 0j, 0j, (0.02+0j), 0j, 0j, 0j, 0j],\n [0j, 0j, 0j, 0j, (0.08+0j), 0j, 0j, 0j],\n [0j, 0j, 0j, 0j, 0j, (0.02+0j), 0j, 0j],\n [0j, 0j, 0j, 0j, 0j, 0j, 0j, 0j],\n [0j, 0j, 0j, 0j, 0j, 0j, 0j, 0j]\n ]\n Shape: (8, 8), dtype: complex64]}, num_qubits=3)]"
     },
     "execution_count": 17,
     "metadata": {},
     "output_type": "execute_result"
    }
   ],
   "source": [
    "bit_flips"
   ],
   "metadata": {
    "collapsed": false,
    "pycharm": {
     "name": "#%%\n"
    }
   }
  },
  {
   "cell_type": "code",
   "execution_count": null,
   "outputs": [],
   "source": [],
   "metadata": {
    "collapsed": false,
    "pycharm": {
     "name": "#%%\n"
    }
   }
  },
  {
   "cell_type": "code",
   "execution_count": 15,
   "outputs": [],
   "source": [
    "df.to_json(path_or_buf=\"test.json\", orient=\"index\")"
   ],
   "metadata": {
    "collapsed": false,
    "pycharm": {
     "name": "#%%\n"
    }
   }
  },
  {
   "cell_type": "code",
   "execution_count": 18,
   "outputs": [
    {
     "data": {
      "text/plain": "  noise_type  error_probability  \\\n0   bit-flip                0.1   \n1   bit-flip                0.1   \n2   bit-flip                0.1   \n3   bit-flip                0.1   \n4   bit-flip                0.1   \n\n                                            _dataset  num_qubits  \n0  {'0_L': [[[{'imag': 0.0, 'real': 0.62000000480...           3  \n1  {'0_L': [[[{'imag': 0.0, 'real': 0.7400000095}...           3  \n2  {'0_L': [[[{'imag': 0.0, 'real': 0.7400000095}...           3  \n3  {'0_L': [[[{'imag': 0.0, 'real': 0.7799999714}...           3  \n4  {'0_L': [[[{'imag': 0.0, 'real': 0.7799999714}...           3  ",
      "text/html": "<div>\n<style scoped>\n    .dataframe tbody tr th:only-of-type {\n        vertical-align: middle;\n    }\n\n    .dataframe tbody tr th {\n        vertical-align: top;\n    }\n\n    .dataframe thead th {\n        text-align: right;\n    }\n</style>\n<table border=\"1\" class=\"dataframe\">\n  <thead>\n    <tr style=\"text-align: right;\">\n      <th></th>\n      <th>noise_type</th>\n      <th>error_probability</th>\n      <th>_dataset</th>\n      <th>num_qubits</th>\n    </tr>\n  </thead>\n  <tbody>\n    <tr>\n      <th>0</th>\n      <td>bit-flip</td>\n      <td>0.1</td>\n      <td>{'0_L': [[[{'imag': 0.0, 'real': 0.62000000480...</td>\n      <td>3</td>\n    </tr>\n    <tr>\n      <th>1</th>\n      <td>bit-flip</td>\n      <td>0.1</td>\n      <td>{'0_L': [[[{'imag': 0.0, 'real': 0.7400000095}...</td>\n      <td>3</td>\n    </tr>\n    <tr>\n      <th>2</th>\n      <td>bit-flip</td>\n      <td>0.1</td>\n      <td>{'0_L': [[[{'imag': 0.0, 'real': 0.7400000095}...</td>\n      <td>3</td>\n    </tr>\n    <tr>\n      <th>3</th>\n      <td>bit-flip</td>\n      <td>0.1</td>\n      <td>{'0_L': [[[{'imag': 0.0, 'real': 0.7799999714}...</td>\n      <td>3</td>\n    </tr>\n    <tr>\n      <th>4</th>\n      <td>bit-flip</td>\n      <td>0.1</td>\n      <td>{'0_L': [[[{'imag': 0.0, 'real': 0.7799999714}...</td>\n      <td>3</td>\n    </tr>\n  </tbody>\n</table>\n</div>"
     },
     "execution_count": 18,
     "metadata": {},
     "output_type": "execute_result"
    }
   ],
   "source": [
    "df1 = pd.read_json(path_or_buf=\"test.json\", orient=\"index\")\n",
    "df1.head()"
   ],
   "metadata": {
    "collapsed": false,
    "pycharm": {
     "name": "#%%\n"
    }
   }
  },
  {
   "cell_type": "code",
   "execution_count": 19,
   "outputs": [
    {
     "ename": "MissingValueError",
     "evalue": "missing value for field \"noise_type\"",
     "output_type": "error",
     "traceback": [
      "\u001B[0;31m---------------------------------------------------------------------------\u001B[0m",
      "\u001B[0;31mKeyError\u001B[0m                                  Traceback (most recent call last)",
      "File \u001B[0;32m~/.pyenv/versions/3.10.0/envs/env-qae/lib/python3.10/site-packages/dacite/core.py:59\u001B[0m, in \u001B[0;36mfrom_dict\u001B[0;34m(data_class, data, config)\u001B[0m\n\u001B[1;32m     58\u001B[0m \u001B[38;5;28;01mtry\u001B[39;00m:\n\u001B[0;32m---> 59\u001B[0m     field_data \u001B[38;5;241m=\u001B[39m \u001B[43mdata\u001B[49m\u001B[43m[\u001B[49m\u001B[43mfield\u001B[49m\u001B[38;5;241;43m.\u001B[39;49m\u001B[43mname\u001B[49m\u001B[43m]\u001B[49m\n\u001B[1;32m     60\u001B[0m     transformed_value \u001B[38;5;241m=\u001B[39m transform_value(\n\u001B[1;32m     61\u001B[0m         type_hooks\u001B[38;5;241m=\u001B[39mconfig\u001B[38;5;241m.\u001B[39mtype_hooks, cast\u001B[38;5;241m=\u001B[39mconfig\u001B[38;5;241m.\u001B[39mcast, target_type\u001B[38;5;241m=\u001B[39mfield\u001B[38;5;241m.\u001B[39mtype, value\u001B[38;5;241m=\u001B[39mfield_data\n\u001B[1;32m     62\u001B[0m     )\n",
      "\u001B[0;31mKeyError\u001B[0m: 'noise_type'",
      "\nDuring handling of the above exception, another exception occurred:\n",
      "\u001B[0;31mDefaultValueNotFoundError\u001B[0m                 Traceback (most recent call last)",
      "File \u001B[0;32m~/.pyenv/versions/3.10.0/envs/env-qae/lib/python3.10/site-packages/dacite/core.py:71\u001B[0m, in \u001B[0;36mfrom_dict\u001B[0;34m(data_class, data, config)\u001B[0m\n\u001B[1;32m     70\u001B[0m \u001B[38;5;28;01mtry\u001B[39;00m:\n\u001B[0;32m---> 71\u001B[0m     value \u001B[38;5;241m=\u001B[39m \u001B[43mget_default_value_for_field\u001B[49m\u001B[43m(\u001B[49m\u001B[43mfield\u001B[49m\u001B[43m)\u001B[49m\n\u001B[1;32m     72\u001B[0m \u001B[38;5;28;01mexcept\u001B[39;00m DefaultValueNotFoundError:\n",
      "File \u001B[0;32m~/.pyenv/versions/3.10.0/envs/env-qae/lib/python3.10/site-packages/dacite/dataclasses.py:21\u001B[0m, in \u001B[0;36mget_default_value_for_field\u001B[0;34m(field)\u001B[0m\n\u001B[1;32m     20\u001B[0m     \u001B[38;5;28;01mreturn\u001B[39;00m \u001B[38;5;28;01mNone\u001B[39;00m\n\u001B[0;32m---> 21\u001B[0m \u001B[38;5;28;01mraise\u001B[39;00m DefaultValueNotFoundError()\n",
      "\u001B[0;31mDefaultValueNotFoundError\u001B[0m: ",
      "\nDuring handling of the above exception, another exception occurred:\n",
      "\u001B[0;31mMissingValueError\u001B[0m                         Traceback (most recent call last)",
      "Input \u001B[0;32mIn [19]\u001B[0m, in \u001B[0;36m<cell line: 1>\u001B[0;34m()\u001B[0m\n\u001B[0;32m----> 1\u001B[0m n_dicts \u001B[38;5;241m=\u001B[39m [from_dict(Noise, \u001B[38;5;28mdict\u001B[39m(\u001B[38;5;28mzip\u001B[39m(key, val))) \u001B[38;5;28;01mfor\u001B[39;00m key,val \u001B[38;5;129;01min\u001B[39;00m df1\u001B[38;5;241m.\u001B[39miteritems()]\n",
      "Input \u001B[0;32mIn [19]\u001B[0m, in \u001B[0;36m<listcomp>\u001B[0;34m(.0)\u001B[0m\n\u001B[0;32m----> 1\u001B[0m n_dicts \u001B[38;5;241m=\u001B[39m [\u001B[43mfrom_dict\u001B[49m\u001B[43m(\u001B[49m\u001B[43mNoise\u001B[49m\u001B[43m,\u001B[49m\u001B[43m \u001B[49m\u001B[38;5;28;43mdict\u001B[39;49m\u001B[43m(\u001B[49m\u001B[38;5;28;43mzip\u001B[39;49m\u001B[43m(\u001B[49m\u001B[43mkey\u001B[49m\u001B[43m,\u001B[49m\u001B[43m \u001B[49m\u001B[43mval\u001B[49m\u001B[43m)\u001B[49m\u001B[43m)\u001B[49m\u001B[43m)\u001B[49m \u001B[38;5;28;01mfor\u001B[39;00m key,val \u001B[38;5;129;01min\u001B[39;00m df1\u001B[38;5;241m.\u001B[39miteritems()]\n",
      "File \u001B[0;32m~/.pyenv/versions/3.10.0/envs/env-qae/lib/python3.10/site-packages/dacite/core.py:75\u001B[0m, in \u001B[0;36mfrom_dict\u001B[0;34m(data_class, data, config)\u001B[0m\n\u001B[1;32m     73\u001B[0m         \u001B[38;5;28;01mif\u001B[39;00m \u001B[38;5;129;01mnot\u001B[39;00m field\u001B[38;5;241m.\u001B[39minit:\n\u001B[1;32m     74\u001B[0m             \u001B[38;5;28;01mcontinue\u001B[39;00m\n\u001B[0;32m---> 75\u001B[0m         \u001B[38;5;28;01mraise\u001B[39;00m MissingValueError(field\u001B[38;5;241m.\u001B[39mname)\n\u001B[1;32m     76\u001B[0m \u001B[38;5;28;01mif\u001B[39;00m field\u001B[38;5;241m.\u001B[39minit:\n\u001B[1;32m     77\u001B[0m     init_values[field\u001B[38;5;241m.\u001B[39mname] \u001B[38;5;241m=\u001B[39m value\n",
      "\u001B[0;31mMissingValueError\u001B[0m: missing value for field \"noise_type\""
     ]
    }
   ],
   "source": [
    "n_dicts = [from_dict(Noise, dict(zip(key, val))) for key,val in df1.iteritems()]"
   ],
   "metadata": {
    "collapsed": false,
    "pycharm": {
     "name": "#%%\n"
    }
   }
  },
  {
   "cell_type": "code",
   "execution_count": 37,
   "outputs": [
    {
     "ename": "TypeError",
     "evalue": "must be real number, not dict",
     "output_type": "error",
     "traceback": [
      "\u001B[0;31m---------------------------------------------------------------------------\u001B[0m",
      "\u001B[0;31mTypeError\u001B[0m                                 Traceback (most recent call last)",
      "Input \u001B[0;32mIn [37]\u001B[0m, in \u001B[0;36m<cell line: 2>\u001B[0;34m()\u001B[0m\n\u001B[1;32m      2\u001B[0m \u001B[38;5;28;01mfor\u001B[39;00m tpl \u001B[38;5;129;01min\u001B[39;00m df1\u001B[38;5;241m.\u001B[39mitertuples(index\u001B[38;5;241m=\u001B[39m\u001B[38;5;28;01mFalse\u001B[39;00m):\n\u001B[1;32m      3\u001B[0m     \u001B[38;5;28;01mif\u001B[39;00m flag:\n\u001B[0;32m----> 4\u001B[0m         arr \u001B[38;5;241m=\u001B[39m \u001B[43mnp\u001B[49m\u001B[38;5;241;43m.\u001B[39;49m\u001B[43marray\u001B[49m\u001B[43m(\u001B[49m\u001B[43mtpl\u001B[49m\u001B[38;5;241;43m.\u001B[39;49m\u001B[43m_2\u001B[49m\u001B[43m[\u001B[49m\u001B[38;5;124;43m'\u001B[39;49m\u001B[38;5;124;43m0_L\u001B[39;49m\u001B[38;5;124;43m'\u001B[39;49m\u001B[43m]\u001B[49m\u001B[43m[\u001B[49m\u001B[38;5;241;43m0\u001B[39;49m\u001B[43m]\u001B[49m\u001B[43m,\u001B[49m\u001B[43m \u001B[49m\u001B[43mdtype\u001B[49m\u001B[38;5;241;43m=\u001B[39;49m\u001B[38;5;28;43mcomplex\u001B[39;49m\u001B[43m)\u001B[49m\n\u001B[1;32m      5\u001B[0m         \u001B[38;5;66;03m# print(tpl._2['0_L'][0][len(tpl._2['0_L'][0]) -1 ])\u001B[39;00m\n\u001B[1;32m      6\u001B[0m         \u001B[38;5;66;03m# print(np.shape(arr))\u001B[39;00m\n\u001B[1;32m      7\u001B[0m         flag \u001B[38;5;241m=\u001B[39m \u001B[38;5;28;01mFalse\u001B[39;00m\n",
      "\u001B[0;31mTypeError\u001B[0m: must be real number, not dict"
     ]
    }
   ],
   "source": [
    "flag = True\n",
    "for tpl in df1.itertuples(index=False):\n",
    "    if flag:\n",
    "        arr = np.array(tpl._2['0_L'][0], dtype=complex)\n",
    "        # print(tpl._2['0_L'][0][len(tpl._2['0_L'][0]) -1 ])\n",
    "        # print(np.shape(arr))\n",
    "        flag = False\n"
   ],
   "metadata": {
    "collapsed": false,
    "pycharm": {
     "name": "#%%\n"
    }
   }
  },
  {
   "cell_type": "code",
   "execution_count": 77,
   "outputs": [],
   "source": [
    "# with  as iter:\n",
    "for row in range(np.shape(arr)[0]):\n",
    "    for col in range(np.shape(arr)[1]):\n",
    "        arr[row][col] = complex(*reversed(list(arr[row][col].values())))"
   ],
   "metadata": {
    "collapsed": false,
    "pycharm": {
     "name": "#%%\n"
    }
   }
  },
  {
   "cell_type": "code",
   "execution_count": 78,
   "outputs": [
    {
     "data": {
      "text/plain": "array([[(0.6200000048000001+0j), 0j, 0j, 0j, 0j, 0j, 0j, 0j],\n       [0j, (0.019999999600000002+0j), 0j, 0j, 0j, 0j, 0j, 0j],\n       [0j, 0j, (0.1599999964+0j), 0j, 0j, 0j, 0j, 0j],\n       [0j, 0j, 0j, (0.0599999987+0j), 0j, 0j, 0j, 0j],\n       [0j, 0j, 0j, 0j, (0.11999999730000001+0j), 0j, 0j, 0j],\n       [0j, 0j, 0j, 0j, 0j, 0j, 0j, 0j],\n       [0j, 0j, 0j, 0j, 0j, 0j, (0.019999999600000002+0j), 0j],\n       [0j, 0j, 0j, 0j, 0j, 0j, 0j, 0j]], dtype=object)"
     },
     "execution_count": 78,
     "metadata": {},
     "output_type": "execute_result"
    }
   ],
   "source": [
    "# np.complex128(reversed(list(arr[0][0].values())))\n",
    "arr"
   ],
   "metadata": {
    "collapsed": false,
    "pycharm": {
     "name": "#%%\n"
    }
   }
  },
  {
   "cell_type": "code",
   "execution_count": 79,
   "outputs": [],
   "source": [
    "def convert_complex_num_json_to_numpy(arr: np.ndarray):\n",
    "    for row in range(np.shape(arr)[0]):\n",
    "        for col in range(np.shape(arr)[1]):\n",
    "            arr[row][col] = complex(*reversed(list(arr[row][col].values())))\n",
    "    return arr\n"
   ],
   "metadata": {
    "collapsed": false,
    "pycharm": {
     "name": "#%%\n"
    }
   }
  },
  {
   "cell_type": "code",
   "execution_count": 80,
   "outputs": [],
   "source": [
    "for tpl in df1.itertuples(index=False):\n",
    "    tpl._2['0_L'][0] = convert_complex_num_json_to_numpy(np.array(tpl._2['0_L'][0]))\n"
   ],
   "metadata": {
    "collapsed": false,
    "pycharm": {
     "name": "#%%\n"
    }
   }
  },
  {
   "cell_type": "code",
   "execution_count": 85,
   "outputs": [
    {
     "data": {
      "text/plain": "array([[(0.7799999714+0j), 0j, 0j, 0j, 0j, 0j, 0j, 0j],\n       [0j, (0.019999999600000002+0j), 0j, 0j, 0j, 0j, 0j, 0j],\n       [0j, 0j, (0.0799999982+0j), 0j, 0j, 0j, 0j, 0j],\n       [0j, 0j, 0j, (0.019999999600000002+0j), 0j, 0j, 0j, 0j],\n       [0j, 0j, 0j, 0j, (0.0799999982+0j), 0j, 0j, 0j],\n       [0j, 0j, 0j, 0j, 0j, (0.019999999600000002+0j), 0j, 0j],\n       [0j, 0j, 0j, 0j, 0j, 0j, 0j, 0j],\n       [0j, 0j, 0j, 0j, 0j, 0j, 0j, 0j]], dtype=object)"
     },
     "execution_count": 85,
     "metadata": {},
     "output_type": "execute_result"
    }
   ],
   "source": [
    "(tpl._2['0_L'][0])"
   ],
   "metadata": {
    "collapsed": false,
    "pycharm": {
     "name": "#%%\n"
    }
   }
  },
  {
   "cell_type": "code",
   "execution_count": null,
   "outputs": [],
   "source": [],
   "metadata": {
    "collapsed": false,
    "pycharm": {
     "name": "#%%\n"
    }
   }
  }
 ],
 "metadata": {
  "kernelspec": {
   "display_name": "Python 3",
   "language": "python",
   "name": "python3"
  },
  "language_info": {
   "codemirror_mode": {
    "name": "ipython",
    "version": 2
   },
   "file_extension": ".py",
   "mimetype": "text/x-python",
   "name": "python",
   "nbconvert_exporter": "python",
   "pygments_lexer": "ipython2",
   "version": "2.7.6"
  }
 },
 "nbformat": 4,
 "nbformat_minor": 0
}